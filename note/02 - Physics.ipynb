{
 "cells": [
  {
   "cell_type": "code",
   "execution_count": 1,
   "metadata": {},
   "outputs": [],
   "source": [
    "from IPython.display import HTML\n",
    "\n",
    "def yt(url, width=500, height=None):\n",
    "    \"\"\"\n",
    "    Function to embed a youtube movie in a notebook\n",
    "    \"\"\"\n",
    "    \n",
    "    if height is None:\n",
    "        height = (9/16*width)\n",
    "    \n",
    "    url = url.replace(\"youtu.be\", 'youtube.com/embed')\n",
    "    \n",
    "    embed_code = \"\"\"\n",
    "    <iframe\n",
    "        width=\"{0}\"\n",
    "        height=\"{1}\"\n",
    "        src=\"{2}\"\n",
    "        frameborder=\"0\"\n",
    "        allowfullscreen>\n",
    "    </iframe>\n",
    "    \"\"\".format(width, height, url)\n",
    "    \n",
    "    return HTML(embed_code)"
   ]
  },
  {
   "cell_type": "markdown",
   "metadata": {},
   "source": [
    "# Topic 02 - Physics\n",
    "\n",
    "We'll go in some more details to understand what drives the entire thing"
   ]
  },
  {
   "cell_type": "markdown",
   "metadata": {},
   "source": [
    "# Mechanics\n",
    "\n",
    "Classical mechanics is typically the stepping stone before exploring more in physics. We will work our way up to electricity and electronics, but classical mechanics will be our starting point.\n",
    "\n",
    "What's also nice to note is how much of the ideas and concepts appear here for the very first time. The unity of all these things becomes more magical the more you notice it.\n",
    "\n",
    "The particular approach here is pretty fundamental and I will discuss these topics more or less in a happy-go-lucky fashion. The Feynman lectures are freely available online, and are a nice introduction to get your concepts straight.\n",
    "\n",
    "**David Tong**\n",
    "\n",
    "Another excellent reference, from a more theoretical point of view, are David Tong's lecture notes. Moreover, what we care about here is summarized in 15 pages, so that's surprisingly doable.\n",
    "\n",
    "Cf. http://www.damtp.cam.ac.uk/user/tong/dynamics/one.pdf\n",
    "\n",
    "This resource is particularly nice if you care about physics, since it connects what we will discuss below, to more modern frameworks in which people today tend to think about physics. I think David Tong did a truly amazing job there.\n"
   ]
  },
  {
   "cell_type": "markdown",
   "metadata": {
    "toc-hr-collapsed": true
   },
   "source": [
    "## Motion\n",
    "\n",
    "cf. http://www.feynmanlectures.caltech.edu/I_08.html"
   ]
  },
  {
   "cell_type": "markdown",
   "metadata": {},
   "source": [
    "### Exercise\n",
    "\n",
    "Given an equation of motion,\n",
    "\n",
    "$$s(t) = At^3 + Bt$$,\n",
    "\n",
    "write a function `approximate_velocity(t, delta_t)` that return the approximate velocity at time $t$, calculated by the formula,\n",
    "\n",
    "$$\n",
    "v = \\frac{\\Delta s}{\\Delta t} = \\frac{s(t + \\Delta t) - s(t)}{\\Delta t}\n",
    "$$\n",
    "\n",
    "And compare it to the actual derivative."
   ]
  },
  {
   "cell_type": "code",
   "execution_count": 23,
   "metadata": {},
   "outputs": [],
   "source": [
    "# Write answer here"
   ]
  },
  {
   "cell_type": "markdown",
   "metadata": {},
   "source": [
    "### Exercise (visual)\n",
    "\n",
    "Plot the actual velocity, and the approximate velocities, calculated with the functions you defined above."
   ]
  },
  {
   "cell_type": "code",
   "execution_count": 24,
   "metadata": {},
   "outputs": [],
   "source": [
    "# Write answer here"
   ]
  },
  {
   "cell_type": "markdown",
   "metadata": {},
   "source": [
    "### Exercise\n",
    "\n",
    "If our robot car is driving at $v=250 \\frac{km}{hour}$, and jumps of a horizontal cliff of $h=75m$ high,\n",
    "\n",
    "1. How far will it jump?\n",
    "2. How long will it take until it hits the ground?\n",
    "3. Out of sheer surprise, a spectator (not pictured) standing at the side of the cliff drops his coffee mug of the side of the cliff at the exact same time as the car makes the jump. When will that mug hit the ground?"
   ]
  },
  {
   "cell_type": "code",
   "execution_count": 25,
   "metadata": {},
   "outputs": [
    {
     "data": {
      "text/html": [
       "<img src=\"figs/phys-01.png\" alt=\"Scheme\" style=\"width: 400px;\"/>\n"
      ],
      "text/plain": [
       "<IPython.core.display.HTML object>"
      ]
     },
     "metadata": {},
     "output_type": "display_data"
    }
   ],
   "source": [
    "%%html\n",
    "<img src=\"figs/phys-01.png\" alt=\"Scheme\" style=\"width: 400px;\"/>"
   ]
  },
  {
   "cell_type": "code",
   "execution_count": 26,
   "metadata": {},
   "outputs": [],
   "source": [
    "# Code the solution here"
   ]
  },
  {
   "cell_type": "markdown",
   "metadata": {
    "toc-hr-collapsed": false
   },
   "source": [
    "## Conservations"
   ]
  },
  {
   "cell_type": "markdown",
   "metadata": {},
   "source": [
    "### Energy\n",
    "\n",
    "cf. \n",
    "- http://www.feynmanlectures.caltech.edu/I_01.html (atomic motion)\n",
    "- http://www.feynmanlectures.caltech.edu/I_04.html (concept)"
   ]
  },
  {
   "cell_type": "markdown",
   "metadata": {},
   "source": [
    "### Momentum\n",
    "\n",
    "cf. http://www.feynmanlectures.caltech.edu/I_10.html"
   ]
  },
  {
   "cell_type": "markdown",
   "metadata": {},
   "source": [
    "#### Exercise\n",
    "\n",
    "Disaster! Elon Musk is incredibly jealous of our progress and in a blind rage he decides to collide head-on with our self driving car. The parameters of the problem are;\n",
    "\n",
    "$$\n",
    "\\begin{align}\n",
    "m_{s3} = 500 g \\quad &v_{s3} = 4 m/s \\\\\n",
    "m_{Tesla} = 2250 kg \\quad &v_{Tesla}=120 km/h\n",
    "\\end{align}\n",
    "$$\n",
    "\n",
    "How fast (and in which direction) will our car go after this horrible collusion?"
   ]
  },
  {
   "cell_type": "code",
   "execution_count": 2,
   "metadata": {},
   "outputs": [],
   "source": [
    "# Code solution here"
   ]
  },
  {
   "cell_type": "markdown",
   "metadata": {},
   "source": [
    "## Forces\n",
    "\n",
    "cf.\n",
    "- http://www.feynmanlectures.caltech.edu/I_09.html (Newton)\n",
    "- http://www.feynmanlectures.caltech.edu/I_11.html (vectors again)\n",
    "- http://www.feynmanlectures.caltech.edu/I_12.html (forces)"
   ]
  },
  {
   "cell_type": "markdown",
   "metadata": {},
   "source": [
    "### Exercise\n",
    "\n",
    "Explain the difference between kinematics and dynamics."
   ]
  },
  {
   "cell_type": "markdown",
   "metadata": {},
   "source": [
    "### Exercise\n",
    "\n",
    "Write a function `next_time_step(x, v, a)` that takes in the position $x$, velocity $v$ and acceleration $a$, of a spring at time $t_n$ and return the same parameters (i.e. $x,v,a$) at one time step after ($t_{n+1}$)"
   ]
  },
  {
   "cell_type": "markdown",
   "metadata": {},
   "source": []
  },
  {
   "cell_type": "markdown",
   "metadata": {},
   "source": [
    "## Work and Energy\n",
    "\n",
    "cf. \n",
    "- http://www.feynmanlectures.caltech.edu/I_13.html (part 01)\n",
    "- http://www.feynmanlectures.caltech.edu/I_14.html (part 02)"
   ]
  },
  {
   "cell_type": "markdown",
   "metadata": {},
   "source": [
    "## Rotation\n",
    "\n",
    "cf.\n",
    "- http://www.feynmanlectures.caltech.edu/I_18.html (2D rotation)\n",
    "- http://www.feynmanlectures.caltech.edu/I_19.html (CoM)\n",
    "- http://www.feynmanlectures.caltech.edu/I_20.html (rotation in space)"
   ]
  },
  {
   "cell_type": "markdown",
   "metadata": {},
   "source": [
    "## The Harmonic Oscillator\n",
    "\n",
    "_\"Understanding physics is understanding the harmonic oscillator, over and over again in different levels of abstraction\"_\n",
    "\n",
    "I cannot agree with that quote any more. It is true in the same way that you only realize after the fact. You'll have to experience it for yourselves, maybe on day, today, it suffices that you should know that this stupid oscillator is the key to many secrets. It is not about the pendulum.\n",
    "\n",
    "cf. http://www.feynmanlectures.caltech.edu/I_21.html"
   ]
  },
  {
   "cell_type": "markdown",
   "metadata": {
    "toc-hr-collapsed": false
   },
   "source": [
    "# Electricity and Magnetism\n",
    "\n",
    "Since this is what we care about, we will spend some more time on this with regards to what we previously studied. The resources I provide here are essentially ordered from simple to complex. Needless to say, we will spiral through them in this order.\n",
    "\n",
    "**The most basic overview**\n",
    "\n",
    "Cf. http://physicsforidiots.com/physics/electromagnetism/ for a basic introduction.\n",
    "\n",
    "**Khan Academy**\n",
    "\n",
    "Khan academy offers their content free of any charge on youtube, which is a pretty nifty thing of them to do. So, I will embed their vides inside this lecture notebook, and our discussion will be primarily focussed around these.\n",
    "\n",
    "As a summarized reference, cf.\n",
    "\n",
    " - https://www.khanacademy.org/science/physics/electric-charge-electric-force-and-voltage\n",
    " - https://www.khanacademy.org/science/physics/circuits-topic\n",
    " - https://www.khanacademy.org/science/physics/magnetic-forces-and-magnetic-fields\n",
    "\n",
    "**Walter Lewins exploration**\n",
    "\n",
    "Disclaimer: Walter Lewin is a controversial figure. The internet will tell you all about it, feel free to look it up. Before the scandal he was a professor at MIT (he got fired after) where he gave a few introductory courses in physics (mechanics and electricty) that attained kind of a legend status. They're not easy, but definitely worth a watch. I'll mention relevant lectures as well, to go along with the topics.\n",
    "\n",
    "For the full playlist, cf.\n",
    "\n",
    "- https://www.youtube.com/playlist?list=PLyQSN7X0ro2314mKyUiOILaOC2hk6Pc3j\n",
    "\n",
    "It's really huge so that needs a summary. I will typically mention which of his lectures goes into the subjects we care about.\n",
    "\n",
    "**David Tong's lecture notes**\n",
    "\n",
    "For a theoretical take on affairs, I have a strong preference towards David Tong's approach. You'll be warned, this is not easy, but in the end, it is not meant to be. This is meant to be true. That sounds presumptuous, and you'd be quite right, but at some point, you're at a point where you understand all the things that we have discussed so far, and yet this theoretical approach seems so novel. Why is that? Because the typical pedagogical explanations do not give you the full story. Once you are ready, by which I mean, once you have a good intuitive understanding, you are ready to walk to the cliff. The formulas and derivations explained in these theoretical texts are essentially all we -humans, that is- have figured out about electromagnetism. Once you understand this approach, in some way, you have mastered the subject fully. It is quite an investment to get to the cliff, with little or no practical payoffs, but the reward is in the journey, and the overview you acquire in the end is the cherry on top. I guess this is where the roads of physics and engineering really deviate.\n",
    "\n",
    "Cf. http://www.damtp.cam.ac.uk/user/tong/em.html"
   ]
  },
  {
   "cell_type": "markdown",
   "metadata": {},
   "source": [
    "## Electricity\n",
    "\n",
    "For the general, theoretical story: cf. http://www.damtp.cam.ac.uk/user/tong/em/el1.pdf"
   ]
  },
  {
   "cell_type": "markdown",
   "metadata": {},
   "source": [
    "### Electric Charges and Forces; Coulomb\n",
    "\n",
    "Cf. https://www.khanacademy.org/science/physics/electric-charge-electric-force-and-voltage#charge-electric-force\n",
    "\n",
    "and\n",
    "\n",
    "Lewin 1-2"
   ]
  },
  {
   "cell_type": "markdown",
   "metadata": {},
   "source": [
    "#### Exercise\n",
    "\n",
    "Write a function `electric_force(q_one, q_two)` that takes in two electrical charges and return the electrical force between them."
   ]
  },
  {
   "cell_type": "markdown",
   "metadata": {},
   "source": [
    "### Electric Fields\n",
    "\n",
    "Cf. https://www.khanacademy.org/science/physics/electric-charge-electric-force-and-voltage#electric-field\n",
    "\n",
    "and\n",
    "\n",
    "Lewin 2-3-4"
   ]
  },
  {
   "cell_type": "markdown",
   "metadata": {},
   "source": [
    "#### Exercise\n",
    "\n",
    "Write a function `electric_force_due_to_field(E, q)` that gives the electric force that an electron with charge `q`"
   ]
  },
  {
   "cell_type": "code",
   "execution_count": 1,
   "metadata": {},
   "outputs": [],
   "source": [
    "# Code your solution here"
   ]
  },
  {
   "cell_type": "markdown",
   "metadata": {},
   "source": [
    "#### Exercise (challenge!)\n",
    "\n",
    "Given two charges at locations $l_1$ and $l_2$ both with an electric charge of $q=1 C$,  calculate the electric field at location $l_3$. The parameters of this problem are;\n",
    "\n",
    "$$\n",
    "\\begin{align}\n",
    "l_1 = [0,0] \\\\\n",
    "l_2 = [0,10] \\\\\n",
    "l_3 = [3, 7]\n",
    "\\end{align}\n",
    "$$\n",
    "\n",
    "Obviously, you'll need vectors as inputs and outputs here! So, time to apply your recently learned linear algebra!"
   ]
  },
  {
   "cell_type": "code",
   "execution_count": 2,
   "metadata": {},
   "outputs": [],
   "source": [
    "# Code solution here"
   ]
  },
  {
   "cell_type": "markdown",
   "metadata": {},
   "source": [
    "### Electric Energy\n",
    "\n",
    "Cf. https://www.khanacademy.org/science/physics/electric-charge-electric-force-and-voltage#electric-potential-voltage\n",
    "\n",
    "Lewin 5-6-7"
   ]
  },
  {
   "cell_type": "code",
   "execution_count": null,
   "metadata": {},
   "outputs": [],
   "source": []
  },
  {
   "cell_type": "markdown",
   "metadata": {},
   "source": [
    "## Circuits\n",
    "\n",
    "Cf. Lewin 8-9-10"
   ]
  },
  {
   "cell_type": "markdown",
   "metadata": {},
   "source": [
    "### Resistor Circuits\n",
    "\n",
    "Cf. https://www.khanacademy.org/science/physics/circuits-topic#circuits-resistance"
   ]
  },
  {
   "cell_type": "markdown",
   "metadata": {},
   "source": [
    "### Capacitor Circuits\n",
    "\n",
    "Cf. https://www.khanacademy.org/science/physics/circuits-topic#circuits-with-capacitors"
   ]
  },
  {
   "cell_type": "markdown",
   "metadata": {},
   "source": [
    "## Magnetism\n",
    "\n",
    "Cf. Lewin and for the theoretical story, cf.\n",
    "\n",
    "- http://www.damtp.cam.ac.uk/user/tong/em/el2.pdf (David Tong's magnetostatics)\n",
    "- http://www.damtp.cam.ac.uk/user/tong/em/el3.pdf (David Tong's electrodynamics)"
   ]
  },
  {
   "cell_type": "markdown",
   "metadata": {},
   "source": [
    "### Magnetic forces and fields\n",
    "\n",
    "Cf. https://www.khanacademy.org/science/physics/magnetic-forces-and-magnetic-fields#magnets-magnetic"
   ]
  },
  {
   "cell_type": "markdown",
   "metadata": {},
   "source": [
    "### Magnetic field from electricity\n",
    "\n",
    "Cf. https://www.khanacademy.org/science/physics/magnetic-forces-and-magnetic-fields#magnetic-field-current-carrying-wire"
   ]
  },
  {
   "cell_type": "markdown",
   "metadata": {},
   "source": [
    "### Electric Motors\n",
    "\n",
    "Of course, this is a physical component that we happen to care deeply about. Motors will be obviously a super critical component of our system.\n",
    "\n",
    "Cf. https://www.khanacademy.org/science/physics/magnetic-forces-and-magnetic-fields#electric-motors"
   ]
  },
  {
   "cell_type": "markdown",
   "metadata": {},
   "source": [
    "### Faraday\n",
    "\n",
    "This will be sufficiently far on our journey in electricity and magnetism. In the end, both of these interactions unify, and electromagnetism is all that's left. If you care, we can go into that at some point, but to get our car running, I'm going to cut the 'official' content right here.\n",
    "\n",
    "Cf. https://www.khanacademy.org/science/physics/magnetic-forces-and-magnetic-fields#magnetic-flux-faradays-law"
   ]
  },
  {
   "cell_type": "markdown",
   "metadata": {
    "toc-hr-collapsed": true
   },
   "source": [
    "# Physical Objects of Interest\n",
    "\n",
    "Some more information on the physical things which will be important to us."
   ]
  },
  {
   "cell_type": "markdown",
   "metadata": {},
   "source": [
    "## Actuators"
   ]
  },
  {
   "cell_type": "markdown",
   "metadata": {},
   "source": [
    "### Brushed Motor\n",
    "\n",
    "Type one of DC motor.\n",
    "\n",
    "As a reference, we can always look to [the wiki article](https://en.wikipedia.org/wiki/Brushed_DC_electric_motor).\n",
    "\n",
    "A second reference that I like is this (slightly old) MIT page http://lancet.mit.edu/motors/index.html\n",
    "\n",
    "Other good explanations are -of course- to be found on youtube;"
   ]
  },
  {
   "cell_type": "code",
   "execution_count": 2,
   "metadata": {},
   "outputs": [
    {
     "data": {
      "text/html": [
       "\n",
       "    <iframe\n",
       "        width=\"500\"\n",
       "        height=\"281.25\"\n",
       "        src=\"https://youtube.com/embed/LAtPHANEfQo\"\n",
       "        frameborder=\"0\"\n",
       "        allowfullscreen>\n",
       "    </iframe>\n",
       "    "
      ],
      "text/plain": [
       "<IPython.core.display.HTML object>"
      ]
     },
     "execution_count": 2,
     "metadata": {},
     "output_type": "execute_result"
    }
   ],
   "source": [
    "yt(\"https://youtu.be/LAtPHANEfQo\")"
   ]
  },
  {
   "cell_type": "markdown",
   "metadata": {},
   "source": [
    "For some youtube weirdness, this guy is surprisingly accurate. Very weird style though."
   ]
  },
  {
   "cell_type": "code",
   "execution_count": 3,
   "metadata": {},
   "outputs": [
    {
     "data": {
      "text/html": [
       "\n",
       "    <iframe\n",
       "        width=\"500\"\n",
       "        height=\"281.25\"\n",
       "        src=\"https://youtube.com/embed/yO9xIVv8ryc\"\n",
       "        frameborder=\"0\"\n",
       "        allowfullscreen>\n",
       "    </iframe>\n",
       "    "
      ],
      "text/plain": [
       "<IPython.core.display.HTML object>"
      ]
     },
     "execution_count": 3,
     "metadata": {},
     "output_type": "execute_result"
    }
   ],
   "source": [
    "yt(\"https://youtu.be/yO9xIVv8ryc\")"
   ]
  },
  {
   "cell_type": "code",
   "execution_count": null,
   "metadata": {},
   "outputs": [],
   "source": []
  },
  {
   "cell_type": "markdown",
   "metadata": {},
   "source": [
    "### Brushless Motor\n",
    "\n",
    "Type two of DC motor"
   ]
  },
  {
   "cell_type": "code",
   "execution_count": 4,
   "metadata": {},
   "outputs": [
    {
     "data": {
      "text/html": [
       "\n",
       "    <iframe\n",
       "        width=\"500\"\n",
       "        height=\"281.25\"\n",
       "        src=\"https://youtube.com/embed/bCEiOnuODac\"\n",
       "        frameborder=\"0\"\n",
       "        allowfullscreen>\n",
       "    </iframe>\n",
       "    "
      ],
      "text/plain": [
       "<IPython.core.display.HTML object>"
      ]
     },
     "execution_count": 4,
     "metadata": {},
     "output_type": "execute_result"
    }
   ],
   "source": [
    "yt(\"https://youtu.be/bCEiOnuODac\")"
   ]
  },
  {
   "cell_type": "markdown",
   "metadata": {},
   "source": [
    "### Servo Motor\n",
    "\n",
    "Motor that allows for controlled movements"
   ]
  },
  {
   "cell_type": "code",
   "execution_count": 5,
   "metadata": {},
   "outputs": [
    {
     "data": {
      "text/html": [
       "\n",
       "    <iframe\n",
       "        width=\"500\"\n",
       "        height=\"281.25\"\n",
       "        src=\"https://youtube.com/embed/ditS0a28Sko\"\n",
       "        frameborder=\"0\"\n",
       "        allowfullscreen>\n",
       "    </iframe>\n",
       "    "
      ],
      "text/plain": [
       "<IPython.core.display.HTML object>"
      ]
     },
     "execution_count": 5,
     "metadata": {},
     "output_type": "execute_result"
    }
   ],
   "source": [
    "yt(\"https://youtu.be/ditS0a28Sko\")"
   ]
  },
  {
   "cell_type": "markdown",
   "metadata": {},
   "source": [
    "Another resource (on a channel we will use more when talking about electronics)"
   ]
  },
  {
   "cell_type": "code",
   "execution_count": 6,
   "metadata": {},
   "outputs": [
    {
     "data": {
      "text/html": [
       "\n",
       "    <iframe\n",
       "        width=\"500\"\n",
       "        height=\"281.25\"\n",
       "        src=\"https://youtube.com/embed/J8atdmEqZsc\"\n",
       "        frameborder=\"0\"\n",
       "        allowfullscreen>\n",
       "    </iframe>\n",
       "    "
      ],
      "text/plain": [
       "<IPython.core.display.HTML object>"
      ]
     },
     "execution_count": 6,
     "metadata": {},
     "output_type": "execute_result"
    }
   ],
   "source": [
    "yt(\"https://youtu.be/J8atdmEqZsc\")"
   ]
  }
 ],
 "metadata": {
  "kernelspec": {
   "display_name": "Python 3",
   "language": "python",
   "name": "python3"
  },
  "language_info": {
   "codemirror_mode": {
    "name": "ipython",
    "version": 3
   },
   "file_extension": ".py",
   "mimetype": "text/x-python",
   "name": "python",
   "nbconvert_exporter": "python",
   "pygments_lexer": "ipython3",
   "version": "3.7.3"
  },
  "toc-autonumbering": true
 },
 "nbformat": 4,
 "nbformat_minor": 2
}
