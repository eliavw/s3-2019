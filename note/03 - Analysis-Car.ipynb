{
 "cells": [
  {
   "cell_type": "markdown",
   "metadata": {},
   "source": [
    "# Physical Model\n",
    "\n",
    "We're now going to apply all our physics and program a physical model of our car."
   ]
  },
  {
   "cell_type": "markdown",
   "metadata": {},
   "source": [
    "## Battery\n",
    "\n",
    "Look up the amount of energy stored in the battery of our car. Model this in a function `battery_capacity()` that return this value in good units."
   ]
  },
  {
   "cell_type": "markdown",
   "metadata": {},
   "source": [
    "## Motor\n",
    "\n",
    "Create a function `motor(A, V)` that takes as inputs the current and voltage, and estimate how much rotations/minute the wheels would do without any weight added."
   ]
  },
  {
   "cell_type": "markdown",
   "metadata": {},
   "source": [
    "## Speed\n",
    "\n",
    "Write a function `motor_speed(omega, r)` that calculates how fast we will drive given the rotation of the wheels, and their speed. "
   ]
  },
  {
   "cell_type": "markdown",
   "metadata": {},
   "source": [
    "## Energy\n",
    "\n",
    "Calculate the kinetic energy of our car; write a function `kinetic_energy(v, w)` that estimates the kinetic energy of our car, given its speed, and weight."
   ]
  },
  {
   "cell_type": "markdown",
   "metadata": {},
   "source": [
    "## Power\n",
    "\n",
    "Calculate the power that we draw from the battery, and estimate how long we can drive around the car, based on this power output."
   ]
  },
  {
   "cell_type": "markdown",
   "metadata": {},
   "source": [
    "## Losses\n",
    "\n",
    "So far, we considered a very idealized model of our car. For instance, in computing the rotation of our wheels, we did not take into account the fact that our car has quite a bit of weight on top. \n",
    "\n",
    "Model the car in its entirety, and add the possibility to correct for our idealized assumptions now. Are the values that we calculate now more realistic."
   ]
  },
  {
   "cell_type": "markdown",
   "metadata": {},
   "source": [
    "Congratulations. You have applied all your physics knowledge acquired and we have build a physical model of our car."
   ]
  },
  {
   "cell_type": "markdown",
   "metadata": {},
   "source": [
    "# Object-Oriented.\n",
    "\n",
    "Now let us give a shot at object oriented programming. Always when we drive our car, we consume a bit of energy contained in the battery.\n",
    "We can build a 'car' object in python, give it all the parts it has (rather than work with functions) and then we can more or less drive it around in the digital world."
   ]
  },
  {
   "cell_type": "code",
   "execution_count": null,
   "metadata": {},
   "outputs": [],
   "source": []
  },
  {
   "cell_type": "code",
   "execution_count": null,
   "metadata": {},
   "outputs": [],
   "source": []
  },
  {
   "cell_type": "code",
   "execution_count": null,
   "metadata": {},
   "outputs": [],
   "source": []
  }
 ],
 "metadata": {
  "kernelspec": {
   "display_name": "Python 3",
   "language": "python",
   "name": "python3"
  },
  "language_info": {
   "codemirror_mode": {
    "name": "ipython",
    "version": 3
   },
   "file_extension": ".py",
   "mimetype": "text/x-python",
   "name": "python",
   "nbconvert_exporter": "python",
   "pygments_lexer": "ipython3",
   "version": "3.7.3"
  }
 },
 "nbformat": 4,
 "nbformat_minor": 2
}
