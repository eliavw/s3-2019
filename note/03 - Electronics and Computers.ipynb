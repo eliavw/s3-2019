{
 "cells": [
  {
   "cell_type": "code",
   "execution_count": 1,
   "metadata": {},
   "outputs": [],
   "source": [
    "from IPython.display import HTML\n",
    "\n",
    "def yt(url, width=500, height=None):\n",
    "    \"\"\"\n",
    "    Function to embed a youtube movie in a notebook\n",
    "    \"\"\"\n",
    "    \n",
    "    if height is None:\n",
    "        height = (9/16*width)\n",
    "    \n",
    "    url = url.replace(\"youtu.be\", 'youtube.com/embed')\n",
    "    \n",
    "    embed_code = \"\"\"\n",
    "    <iframe\n",
    "        width=\"{0}\"\n",
    "        height=\"{1}\"\n",
    "        src=\"{2}\"\n",
    "        frameborder=\"0\"\n",
    "        allowfullscreen>\n",
    "    </iframe>\n",
    "    \"\"\".format(width, height, url)\n",
    "    \n",
    "    return HTML(embed_code)"
   ]
  },
  {
   "cell_type": "markdown",
   "metadata": {},
   "source": [
    "# Topic 03 - Electronics and Computers\n",
    "\n",
    "We will have to understand something about electronics, and we'll quickly move on to computers as well.\n",
    "\n",
    "The resource that I prefer (but I'm a physicist at heart!) is Feynman idiosyncratic 'Lectures on Computation', because it really starts from electricity and goes onto computing and beyond. The Feynman lectures might be dated, but I honestly believe that his lectures on computation generally survived the test of time better, and as far as my knowledge goes, there's simply nothing out there that's quite like it. Which is why I love this resource so, so much.\n",
    "\n",
    "Cf. https://www.taylorfrancis.com/books/9780429500442"
   ]
  },
  {
   "cell_type": "markdown",
   "metadata": {},
   "source": [
    "# Electronics\n",
    "\n",
    "A real crash course in electronics and the components in an RC car.\n",
    "\n",
    "As a general overview, Khan academy has once again done a pretty solid job here. As you may have noticed by now, when taking a first stab at a new subject, or to quickly brush up on your basics, Khan academy is maybe a nice place to look.\n",
    "\n",
    "Cf; https://www.khanacademy.org/science/electrical-engineering\n",
    "\n",
    "Another, more internet-based resource is the wiki of r/electronics;\n",
    "\n",
    "cf. https://www.reddit.com/r/AskElectronics/wiki/beginners\n",
    "\n",
    "This is basically a resource written by a community of enthusiasts, and can thus act as a portal to all kinds of other sources.\n",
    "\n",
    "A more serious and elaborate resource would be for example this book,\n",
    "\n",
    "[Kybett and Boysen - 2008 - All New Electronics](https://www.worldcat.org/title/all-new-electronics-self-teaching-guide/oclc/864905108?referer=di&ht=edition)\n",
    "\n",
    "\n",
    "For simulation tools, here's a summary;\n",
    "\n",
    "cf. https://www.reddit.com/r/AskElectronics/wiki/software#wiki_simulation\n",
    "\n",
    "Another pretty nifty youtube channel would be this one \"GreatScott\";\n",
    "\n",
    "cf. https://www.youtube.com/channel/UC6mIxFTvXkWQVEHPsEdflzQ"
   ]
  },
  {
   "cell_type": "markdown",
   "metadata": {},
   "source": [
    "## Introduction"
   ]
  },
  {
   "cell_type": "code",
   "execution_count": null,
   "metadata": {},
   "outputs": [],
   "source": []
  },
  {
   "cell_type": "markdown",
   "metadata": {},
   "source": [
    "## A component-view"
   ]
  },
  {
   "cell_type": "markdown",
   "metadata": {},
   "source": [
    "### Diodes"
   ]
  },
  {
   "cell_type": "code",
   "execution_count": 6,
   "metadata": {},
   "outputs": [
    {
     "data": {
      "text/html": [
       "\n",
       "    <iframe\n",
       "        width=\"500\"\n",
       "        height=\"281.25\"\n",
       "        src=\"https://youtube.com/embed/Qlayua3yjuE\"\n",
       "        frameborder=\"0\"\n",
       "        allowfullscreen>\n",
       "    </iframe>\n",
       "    "
      ],
      "text/plain": [
       "<IPython.core.display.HTML object>"
      ]
     },
     "execution_count": 6,
     "metadata": {},
     "output_type": "execute_result"
    }
   ],
   "source": [
    "yt(\"https://youtu.be/Qlayua3yjuE\")"
   ]
  },
  {
   "cell_type": "code",
   "execution_count": 5,
   "metadata": {},
   "outputs": [
    {
     "data": {
      "text/html": [
       "\n",
       "    <iframe\n",
       "        width=\"500\"\n",
       "        height=\"281.25\"\n",
       "        src=\"https://youtube.com/embed/46WSCihjoRI\"\n",
       "        frameborder=\"0\"\n",
       "        allowfullscreen>\n",
       "    </iframe>\n",
       "    "
      ],
      "text/plain": [
       "<IPython.core.display.HTML object>"
      ]
     },
     "execution_count": 5,
     "metadata": {},
     "output_type": "execute_result"
    }
   ],
   "source": [
    "yt(\"https://youtu.be/46WSCihjoRI\")"
   ]
  },
  {
   "cell_type": "markdown",
   "metadata": {},
   "source": [
    "### Capacitor"
   ]
  },
  {
   "cell_type": "code",
   "execution_count": 2,
   "metadata": {},
   "outputs": [
    {
     "data": {
      "text/html": [
       "\n",
       "    <iframe\n",
       "        width=\"500\"\n",
       "        height=\"281.25\"\n",
       "        src=\"https://youtube.com/embed/otQGdPLyF3w\"\n",
       "        frameborder=\"0\"\n",
       "        allowfullscreen>\n",
       "    </iframe>\n",
       "    "
      ],
      "text/plain": [
       "<IPython.core.display.HTML object>"
      ]
     },
     "execution_count": 2,
     "metadata": {},
     "output_type": "execute_result"
    }
   ],
   "source": [
    "yt(\"https://youtu.be/otQGdPLyF3w\")"
   ]
  },
  {
   "cell_type": "markdown",
   "metadata": {},
   "source": [
    "### Resistor"
   ]
  },
  {
   "cell_type": "code",
   "execution_count": 3,
   "metadata": {},
   "outputs": [
    {
     "data": {
      "text/html": [
       "\n",
       "    <iframe\n",
       "        width=\"500\"\n",
       "        height=\"281.25\"\n",
       "        src=\"https://youtube.com/embed/7w5I-KbJ1Sg\"\n",
       "        frameborder=\"0\"\n",
       "        allowfullscreen>\n",
       "    </iframe>\n",
       "    "
      ],
      "text/plain": [
       "<IPython.core.display.HTML object>"
      ]
     },
     "execution_count": 3,
     "metadata": {},
     "output_type": "execute_result"
    }
   ],
   "source": [
    "yt(\"https://youtu.be/7w5I-KbJ1Sg\")"
   ]
  },
  {
   "cell_type": "markdown",
   "metadata": {},
   "source": [
    "## Electronic Concepts of interest"
   ]
  },
  {
   "cell_type": "markdown",
   "metadata": {},
   "source": [
    "### Batttery"
   ]
  },
  {
   "cell_type": "code",
   "execution_count": null,
   "metadata": {},
   "outputs": [],
   "source": []
  },
  {
   "cell_type": "markdown",
   "metadata": {},
   "source": [
    "### PWM-control"
   ]
  },
  {
   "cell_type": "code",
   "execution_count": null,
   "metadata": {},
   "outputs": [],
   "source": []
  },
  {
   "cell_type": "markdown",
   "metadata": {},
   "source": [
    "### Electronic Speed Control"
   ]
  },
  {
   "cell_type": "markdown",
   "metadata": {},
   "source": [
    "GreatScott summarizes engines and ESC again"
   ]
  },
  {
   "cell_type": "code",
   "execution_count": 4,
   "metadata": {},
   "outputs": [
    {
     "data": {
      "text/html": [
       "\n",
       "    <iframe\n",
       "        width=\"500\"\n",
       "        height=\"281.25\"\n",
       "        src=\"https://youtube.com/embed/UteZJ_7C4Mg\"\n",
       "        frameborder=\"0\"\n",
       "        allowfullscreen>\n",
       "    </iframe>\n",
       "    "
      ],
      "text/plain": [
       "<IPython.core.display.HTML object>"
      ]
     },
     "execution_count": 4,
     "metadata": {},
     "output_type": "execute_result"
    }
   ],
   "source": [
    "yt(\"https://youtu.be/UteZJ_7C4Mg\")"
   ]
  },
  {
   "cell_type": "markdown",
   "metadata": {},
   "source": [
    "# Computers\n",
    "\n",
    "A theoretical introduction to what a computer actually is.\n",
    "\n",
    "_Resource: Feynman Lectures on Computation_"
   ]
  },
  {
   "cell_type": "code",
   "execution_count": null,
   "metadata": {},
   "outputs": [],
   "source": []
  }
 ],
 "metadata": {
  "kernelspec": {
   "display_name": "Python 3",
   "language": "python",
   "name": "python3"
  },
  "language_info": {
   "codemirror_mode": {
    "name": "ipython",
    "version": 3
   },
   "file_extension": ".py",
   "mimetype": "text/x-python",
   "name": "python",
   "nbconvert_exporter": "python",
   "pygments_lexer": "ipython3",
   "version": "3.7.3"
  }
 },
 "nbformat": 4,
 "nbformat_minor": 2
}
