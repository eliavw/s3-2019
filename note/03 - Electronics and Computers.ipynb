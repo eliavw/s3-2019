{
 "cells": [
  {
   "cell_type": "code",
   "execution_count": 2,
   "metadata": {},
   "outputs": [],
   "source": [
    "from IPython.display import HTML\n",
    "\n",
    "def yt(url, width=500, height=None):\n",
    "    \"\"\"\n",
    "    Function to embed a youtube movie in a notebook\n",
    "    \"\"\"\n",
    "    \n",
    "    if height is None:\n",
    "        height = (9/16*width)\n",
    "    \n",
    "    url = url.replace(\"youtu.be\", 'youtube.com/embed')\n",
    "    \n",
    "    embed_code = \"\"\"\n",
    "    <iframe\n",
    "        width=\"{0}\"\n",
    "        height=\"{1}\"\n",
    "        src=\"{2}\"\n",
    "        frameborder=\"0\"\n",
    "        allowfullscreen>\n",
    "    </iframe>\n",
    "    \"\"\".format(width, height, url)\n",
    "    \n",
    "    return HTML(embed_code)"
   ]
  },
  {
   "cell_type": "markdown",
   "metadata": {},
   "source": [
    "# Topic 03 - Electronics and Computers\n",
    "\n",
    "We will have to understand something about electronics, and we'll quickly move on to computers as well.\n",
    "\n",
    "The resource that I prefer (but I'm a physicist at heart!) is Feynman idiosyncratic 'Lectures on Computation', because it really starts from electricity and goes onto computing and beyond. The Feynman lectures might be dated, but I honestly believe that his lectures on computation generally survived the test of time better, and as far as my knowledge goes, there's simply nothing out there that's quite like it. Which is why I love this resource so, so much.\n",
    "\n",
    "Cf. https://www.taylorfrancis.com/books/9780429500442"
   ]
  },
  {
   "cell_type": "markdown",
   "metadata": {},
   "source": [
    "# Electronics\n",
    "\n",
    "A real crash course in electronics and the components in an RC car.\n",
    "\n",
    "As a general overview, Khan academy has once again done a pretty solid job here. As you may have noticed by now, when taking a first stab at a new subject, or to quickly brush up on your basics, Khan academy is maybe a nice place to look.\n",
    "\n",
    "Cf; https://www.khanacademy.org/science/electrical-engineering\n",
    "\n",
    "Another, more internet-based resource is the wiki of r/electronics;\n",
    "\n",
    "cf. https://www.reddit.com/r/AskElectronics/wiki/beginners\n",
    "\n",
    "This is basically a resource written by a community of enthusiasts, and can thus act as a portal to all kinds of other sources.\n",
    "\n",
    "A more serious and elaborate resource would be for example this book,\n",
    "\n",
    "[Kybett and Boysen - 2008 - All New Electronics](https://www.worldcat.org/title/all-new-electronics-self-teaching-guide/oclc/864905108?referer=di&ht=edition)\n",
    "\n",
    "\n",
    "For simulation tools, here's a summary;\n",
    "\n",
    "cf. https://www.reddit.com/r/AskElectronics/wiki/software#wiki_simulation\n",
    "\n",
    "Another pretty nifty youtube channel would be this one \"GreatScott\";\n",
    "\n",
    "cf. https://www.youtube.com/channel/UC6mIxFTvXkWQVEHPsEdflzQ\n",
    "\n",
    "Or this one SimplyElectronics,\n",
    "\n",
    "cf. https://www.youtube.com/channel/UCiLgdNKZCiod7k5nsrUkOJA"
   ]
  },
  {
   "cell_type": "markdown",
   "metadata": {},
   "source": [
    "## Introduction\n",
    "\n",
    "Cf. https://www.khanacademy.org/science/electrical-engineering/introduction-to-ee"
   ]
  },
  {
   "cell_type": "markdown",
   "metadata": {},
   "source": [
    "## Circuits"
   ]
  },
  {
   "cell_type": "markdown",
   "metadata": {},
   "source": [
    "### Basics\n",
    "\n",
    "Cf. https://www.khanacademy.org/science/electrical-engineering/ee-circuit-analysis-topic#circuit-elements"
   ]
  },
  {
   "cell_type": "markdown",
   "metadata": {},
   "source": [
    "### Resistor-circuits\n",
    "\n",
    "cf. https://www.khanacademy.org/science/electrical-engineering/ee-circuit-analysis-topic#ee-resistor-circuits"
   ]
  },
  {
   "cell_type": "markdown",
   "metadata": {},
   "source": [
    "### DC circuit analysis\n",
    "\n",
    "https://www.khanacademy.org/science/electrical-engineering/ee-circuit-analysis-topic#ee-dc-circuit-analysis"
   ]
  },
  {
   "cell_type": "markdown",
   "metadata": {},
   "source": [
    "### Natural and Forced Response\n",
    "\n",
    "I don't think this is really vital to our purposes, but I think it should be easy enough to grasp.\n",
    "\n",
    "Cf. https://www.khanacademy.org/science/electrical-engineering/ee-circuit-analysis-topic#ee-natural-and-forced-response"
   ]
  },
  {
   "cell_type": "markdown",
   "metadata": {},
   "source": [
    "### AC circuit analysis\n",
    "\n",
    "Surely, this does not matter because we don't do AC, but hey, we're trying anyway right.\n",
    "\n",
    "Cf. https://www.khanacademy.org/science/electrical-engineering/ee-circuit-analysis-topic#ee-ac-analysis"
   ]
  },
  {
   "cell_type": "markdown",
   "metadata": {},
   "source": [
    "## A component-view"
   ]
  },
  {
   "cell_type": "markdown",
   "metadata": {},
   "source": [
    "### Diodes\n",
    "\n",
    "ON Khan academy: https://www.khanacademy.org/science/electrical-engineering/ee-semiconductor-devices\n",
    "\n",
    "other explanations happen on youtube,"
   ]
  },
  {
   "cell_type": "code",
   "execution_count": 6,
   "metadata": {},
   "outputs": [
    {
     "data": {
      "text/html": [
       "\n",
       "    <iframe\n",
       "        width=\"500\"\n",
       "        height=\"281.25\"\n",
       "        src=\"https://youtube.com/embed/Qlayua3yjuE\"\n",
       "        frameborder=\"0\"\n",
       "        allowfullscreen>\n",
       "    </iframe>\n",
       "    "
      ],
      "text/plain": [
       "<IPython.core.display.HTML object>"
      ]
     },
     "execution_count": 6,
     "metadata": {},
     "output_type": "execute_result"
    }
   ],
   "source": [
    "yt(\"https://youtu.be/Qlayua3yjuE\")"
   ]
  },
  {
   "cell_type": "code",
   "execution_count": 30,
   "metadata": {},
   "outputs": [
    {
     "data": {
      "text/html": [
       "\n",
       "    <iframe\n",
       "        width=\"500\"\n",
       "        height=\"281.25\"\n",
       "        src=\"https://youtube.com/embed/46WSCihjoRI\"\n",
       "        frameborder=\"0\"\n",
       "        allowfullscreen>\n",
       "    </iframe>\n",
       "    "
      ],
      "text/plain": [
       "<IPython.core.display.HTML object>"
      ]
     },
     "execution_count": 30,
     "metadata": {},
     "output_type": "execute_result"
    }
   ],
   "source": [
    "yt(\"https://youtu.be/46WSCihjoRI\")"
   ]
  },
  {
   "cell_type": "markdown",
   "metadata": {},
   "source": [
    "or, one more time;"
   ]
  },
  {
   "cell_type": "code",
   "execution_count": 33,
   "metadata": {},
   "outputs": [
    {
     "data": {
      "text/html": [
       "\n",
       "    <iframe\n",
       "        width=\"500\"\n",
       "        height=\"281.25\"\n",
       "        src=\"https://youtube.com/embed/6lep5e3KMdY?list=PLYS_1w0FFIANdG78JyJu3tsumsXVIcXUB\"\n",
       "        frameborder=\"0\"\n",
       "        allowfullscreen>\n",
       "    </iframe>\n",
       "    "
      ],
      "text/plain": [
       "<IPython.core.display.HTML object>"
      ]
     },
     "execution_count": 33,
     "metadata": {},
     "output_type": "execute_result"
    }
   ],
   "source": [
    "yt(\"https://youtu.be/6lep5e3KMdY?list=PLYS_1w0FFIANdG78JyJu3tsumsXVIcXUB\")"
   ]
  },
  {
   "cell_type": "markdown",
   "metadata": {},
   "source": [
    "#### Rectifier"
   ]
  },
  {
   "cell_type": "markdown",
   "metadata": {},
   "source": [
    "And as an extra thing, there is this concept of a rectifier, which relies heavily on diodes for its functionality."
   ]
  },
  {
   "cell_type": "code",
   "execution_count": 32,
   "metadata": {},
   "outputs": [
    {
     "data": {
      "text/html": [
       "\n",
       "    <iframe\n",
       "        width=\"500\"\n",
       "        height=\"281.25\"\n",
       "        src=\"https://youtube.com/embed/5cbQNfO0Mwg?list=PLYS_1w0FFIANdG78JyJu3tsumsXVIcXUB\"\n",
       "        frameborder=\"0\"\n",
       "        allowfullscreen>\n",
       "    </iframe>\n",
       "    "
      ],
      "text/plain": [
       "<IPython.core.display.HTML object>"
      ]
     },
     "execution_count": 32,
     "metadata": {},
     "output_type": "execute_result"
    }
   ],
   "source": [
    "yt(\"https://youtu.be/5cbQNfO0Mwg?list=PLYS_1w0FFIANdG78JyJu3tsumsXVIcXUB\")"
   ]
  },
  {
   "cell_type": "code",
   "execution_count": null,
   "metadata": {},
   "outputs": [],
   "source": []
  },
  {
   "cell_type": "markdown",
   "metadata": {},
   "source": [
    "### Capacitor"
   ]
  },
  {
   "cell_type": "code",
   "execution_count": 13,
   "metadata": {},
   "outputs": [
    {
     "data": {
      "text/html": [
       "\n",
       "    <iframe\n",
       "        width=\"500\"\n",
       "        height=\"281.25\"\n",
       "        src=\"https://youtube.com/embed/4Hg7SLhetXM\"\n",
       "        frameborder=\"0\"\n",
       "        allowfullscreen>\n",
       "    </iframe>\n",
       "    "
      ],
      "text/plain": [
       "<IPython.core.display.HTML object>"
      ]
     },
     "execution_count": 13,
     "metadata": {},
     "output_type": "execute_result"
    }
   ],
   "source": [
    "yt(\"https://youtu.be/4Hg7SLhetXM\")"
   ]
  },
  {
   "cell_type": "code",
   "execution_count": 2,
   "metadata": {},
   "outputs": [
    {
     "data": {
      "text/html": [
       "\n",
       "    <iframe\n",
       "        width=\"500\"\n",
       "        height=\"281.25\"\n",
       "        src=\"https://youtube.com/embed/otQGdPLyF3w\"\n",
       "        frameborder=\"0\"\n",
       "        allowfullscreen>\n",
       "    </iframe>\n",
       "    "
      ],
      "text/plain": [
       "<IPython.core.display.HTML object>"
      ]
     },
     "execution_count": 2,
     "metadata": {},
     "output_type": "execute_result"
    }
   ],
   "source": [
    "yt(\"https://youtu.be/otQGdPLyF3w\")"
   ]
  },
  {
   "cell_type": "markdown",
   "metadata": {},
   "source": [
    "### Resistor"
   ]
  },
  {
   "cell_type": "code",
   "execution_count": 3,
   "metadata": {},
   "outputs": [
    {
     "data": {
      "text/html": [
       "\n",
       "    <iframe\n",
       "        width=\"500\"\n",
       "        height=\"281.25\"\n",
       "        src=\"https://youtube.com/embed/7w5I-KbJ1Sg\"\n",
       "        frameborder=\"0\"\n",
       "        allowfullscreen>\n",
       "    </iframe>\n",
       "    "
      ],
      "text/plain": [
       "<IPython.core.display.HTML object>"
      ]
     },
     "execution_count": 3,
     "metadata": {},
     "output_type": "execute_result"
    }
   ],
   "source": [
    "yt(\"https://youtu.be/7w5I-KbJ1Sg\")"
   ]
  },
  {
   "cell_type": "markdown",
   "metadata": {},
   "source": [
    "## Electronic Concepts of interest"
   ]
  },
  {
   "cell_type": "markdown",
   "metadata": {},
   "source": [
    "### Batttery"
   ]
  },
  {
   "cell_type": "code",
   "execution_count": 34,
   "metadata": {},
   "outputs": [
    {
     "data": {
      "text/html": [
       "\n",
       "    <iframe\n",
       "        width=\"500\"\n",
       "        height=\"281.25\"\n",
       "        src=\"https://youtube.com/embed/9HlD40SLwr0\"\n",
       "        frameborder=\"0\"\n",
       "        allowfullscreen>\n",
       "    </iframe>\n",
       "    "
      ],
      "text/plain": [
       "<IPython.core.display.HTML object>"
      ]
     },
     "execution_count": 34,
     "metadata": {},
     "output_type": "execute_result"
    }
   ],
   "source": [
    "yt(\"https://youtu.be/9HlD40SLwr0\")"
   ]
  },
  {
   "cell_type": "code",
   "execution_count": 35,
   "metadata": {},
   "outputs": [
    {
     "data": {
      "text/html": [
       "\n",
       "    <iframe\n",
       "        width=\"500\"\n",
       "        height=\"281.25\"\n",
       "        src=\"https://youtube.com/embed/2ZXxcXXRCvE?list=PLYS_1w0FFIANdG78JyJu3tsumsXVIcXUB\"\n",
       "        frameborder=\"0\"\n",
       "        allowfullscreen>\n",
       "    </iframe>\n",
       "    "
      ],
      "text/plain": [
       "<IPython.core.display.HTML object>"
      ]
     },
     "execution_count": 35,
     "metadata": {},
     "output_type": "execute_result"
    }
   ],
   "source": [
    "yt(\"https://youtu.be/2ZXxcXXRCvE?list=PLYS_1w0FFIANdG78JyJu3tsumsXVIcXUB\")"
   ]
  },
  {
   "cell_type": "markdown",
   "metadata": {},
   "source": [
    "#### NiMH"
   ]
  },
  {
   "cell_type": "code",
   "execution_count": null,
   "metadata": {},
   "outputs": [],
   "source": []
  },
  {
   "cell_type": "markdown",
   "metadata": {},
   "source": [
    "#### Li-Ion"
   ]
  },
  {
   "cell_type": "code",
   "execution_count": 9,
   "metadata": {},
   "outputs": [
    {
     "data": {
      "text/html": [
       "\n",
       "    <iframe\n",
       "        width=\"500\"\n",
       "        height=\"281.25\"\n",
       "        src=\"https://youtube.com/embed/VxMM4g2Sk8U\"\n",
       "        frameborder=\"0\"\n",
       "        allowfullscreen>\n",
       "    </iframe>\n",
       "    "
      ],
      "text/plain": [
       "<IPython.core.display.HTML object>"
      ]
     },
     "execution_count": 9,
     "metadata": {},
     "output_type": "execute_result"
    }
   ],
   "source": [
    "yt(\"https://youtu.be/VxMM4g2Sk8U\")"
   ]
  },
  {
   "cell_type": "code",
   "execution_count": null,
   "metadata": {},
   "outputs": [],
   "source": []
  },
  {
   "cell_type": "markdown",
   "metadata": {},
   "source": [
    "### PWM-control\n",
    "\n",
    "This is already more digital electronics, and we will also use this in our project."
   ]
  },
  {
   "cell_type": "code",
   "execution_count": 10,
   "metadata": {},
   "outputs": [
    {
     "data": {
      "text/html": [
       "\n",
       "    <iframe\n",
       "        width=\"500\"\n",
       "        height=\"281.25\"\n",
       "        src=\"https://youtube.com/embed/GQLED3gmONg\"\n",
       "        frameborder=\"0\"\n",
       "        allowfullscreen>\n",
       "    </iframe>\n",
       "    "
      ],
      "text/plain": [
       "<IPython.core.display.HTML object>"
      ]
     },
     "execution_count": 10,
     "metadata": {},
     "output_type": "execute_result"
    }
   ],
   "source": [
    "yt(\"https://youtu.be/GQLED3gmONg\")"
   ]
  },
  {
   "cell_type": "markdown",
   "metadata": {},
   "source": [
    "### Electronic Speed Control"
   ]
  },
  {
   "cell_type": "markdown",
   "metadata": {},
   "source": [
    "GreatScott summarizes engines and ESC again"
   ]
  },
  {
   "cell_type": "code",
   "execution_count": 4,
   "metadata": {},
   "outputs": [
    {
     "data": {
      "text/html": [
       "\n",
       "    <iframe\n",
       "        width=\"500\"\n",
       "        height=\"281.25\"\n",
       "        src=\"https://youtube.com/embed/UteZJ_7C4Mg\"\n",
       "        frameborder=\"0\"\n",
       "        allowfullscreen>\n",
       "    </iframe>\n",
       "    "
      ],
      "text/plain": [
       "<IPython.core.display.HTML object>"
      ]
     },
     "execution_count": 4,
     "metadata": {},
     "output_type": "execute_result"
    }
   ],
   "source": [
    "yt(\"https://youtu.be/UteZJ_7C4Mg\")"
   ]
  },
  {
   "cell_type": "markdown",
   "metadata": {},
   "source": [
    "# Computers\n",
    "\n",
    "A theoretical introduction to what a computer actually is.\n",
    "\n",
    "_Resource: Feynman Lectures on Computation_"
   ]
  },
  {
   "cell_type": "markdown",
   "metadata": {},
   "source": [
    "## Introduction"
   ]
  },
  {
   "cell_type": "code",
   "execution_count": 3,
   "metadata": {},
   "outputs": [
    {
     "data": {
      "text/html": [
       "\n",
       "    <iframe\n",
       "        width=\"500\"\n",
       "        height=\"281.25\"\n",
       "        src=\"https://youtube.com/embed/tpIctyqH29Q?list=PL8dPuuaLjXtNlUrzyH5r6jN9ulIgZBpdo\"\n",
       "        frameborder=\"0\"\n",
       "        allowfullscreen>\n",
       "    </iframe>\n",
       "    "
      ],
      "text/plain": [
       "<IPython.core.display.HTML object>"
      ]
     },
     "execution_count": 3,
     "metadata": {},
     "output_type": "execute_result"
    }
   ],
   "source": [
    "yt(\"https://youtu.be/tpIctyqH29Q?list=PL8dPuuaLjXtNlUrzyH5r6jN9ulIgZBpdo\")"
   ]
  },
  {
   "cell_type": "code",
   "execution_count": 4,
   "metadata": {},
   "outputs": [
    {
     "data": {
      "text/html": [
       "\n",
       "    <iframe\n",
       "        width=\"500\"\n",
       "        height=\"281.25\"\n",
       "        src=\"https://youtube.com/embed/O5nskjZ_GoI?list=PL8dPuuaLjXtNlUrzyH5r6jN9ulIgZBpdo\"\n",
       "        frameborder=\"0\"\n",
       "        allowfullscreen>\n",
       "    </iframe>\n",
       "    "
      ],
      "text/plain": [
       "<IPython.core.display.HTML object>"
      ]
     },
     "execution_count": 4,
     "metadata": {},
     "output_type": "execute_result"
    }
   ],
   "source": [
    "yt(\"https://youtu.be/O5nskjZ_GoI?list=PL8dPuuaLjXtNlUrzyH5r6jN9ulIgZBpdo\")"
   ]
  },
  {
   "cell_type": "code",
   "execution_count": 5,
   "metadata": {},
   "outputs": [
    {
     "data": {
      "text/html": [
       "\n",
       "    <iframe\n",
       "        width=\"500\"\n",
       "        height=\"281.25\"\n",
       "        src=\"https://youtube.com/embed/LN0ucKNX0hc?list=PL8dPuuaLjXtNlUrzyH5r6jN9ulIgZBpdo\"\n",
       "        frameborder=\"0\"\n",
       "        allowfullscreen>\n",
       "    </iframe>\n",
       "    "
      ],
      "text/plain": [
       "<IPython.core.display.HTML object>"
      ]
     },
     "execution_count": 5,
     "metadata": {},
     "output_type": "execute_result"
    }
   ],
   "source": [
    "yt(\"https://youtu.be/LN0ucKNX0hc?list=PL8dPuuaLjXtNlUrzyH5r6jN9ulIgZBpdo\")"
   ]
  },
  {
   "cell_type": "markdown",
   "metadata": {},
   "source": [
    "## Boolean (Logic)"
   ]
  },
  {
   "cell_type": "code",
   "execution_count": 6,
   "metadata": {},
   "outputs": [
    {
     "data": {
      "text/html": [
       "\n",
       "    <iframe\n",
       "        width=\"500\"\n",
       "        height=\"281.25\"\n",
       "        src=\"https://youtube.com/embed/gI-qXk7XojA?list=PL8dPuuaLjXtNlUrzyH5r6jN9ulIgZBpdo\"\n",
       "        frameborder=\"0\"\n",
       "        allowfullscreen>\n",
       "    </iframe>\n",
       "    "
      ],
      "text/plain": [
       "<IPython.core.display.HTML object>"
      ]
     },
     "execution_count": 6,
     "metadata": {},
     "output_type": "execute_result"
    }
   ],
   "source": [
    "yt(\"https://youtu.be/gI-qXk7XojA?list=PL8dPuuaLjXtNlUrzyH5r6jN9ulIgZBpdo\")"
   ]
  },
  {
   "cell_type": "code",
   "execution_count": 11,
   "metadata": {},
   "outputs": [
    {
     "data": {
      "text/html": [
       "\n",
       "    <iframe\n",
       "        width=\"500\"\n",
       "        height=\"281.25\"\n",
       "        src=\"https://youtube.com/embed/1GSjbWt0c9M?list=PL8dPuuaLjXtNlUrzyH5r6jN9ulIgZBpdo\"\n",
       "        frameborder=\"0\"\n",
       "        allowfullscreen>\n",
       "    </iframe>\n",
       "    "
      ],
      "text/plain": [
       "<IPython.core.display.HTML object>"
      ]
     },
     "execution_count": 11,
     "metadata": {},
     "output_type": "execute_result"
    }
   ],
   "source": [
    "yt(\"https://youtu.be/1GSjbWt0c9M?list=PL8dPuuaLjXtNlUrzyH5r6jN9ulIgZBpdo\")"
   ]
  },
  {
   "cell_type": "markdown",
   "metadata": {},
   "source": [
    "## Fundamental Components"
   ]
  },
  {
   "cell_type": "code",
   "execution_count": 10,
   "metadata": {},
   "outputs": [
    {
     "data": {
      "text/html": [
       "\n",
       "    <iframe\n",
       "        width=\"500\"\n",
       "        height=\"281.25\"\n",
       "        src=\"https://youtube.com/embed/1I5ZMmrOfnA?list=PL8dPuuaLjXtNlUrzyH5r6jN9ulIgZBpdo\"\n",
       "        frameborder=\"0\"\n",
       "        allowfullscreen>\n",
       "    </iframe>\n",
       "    "
      ],
      "text/plain": [
       "<IPython.core.display.HTML object>"
      ]
     },
     "execution_count": 10,
     "metadata": {},
     "output_type": "execute_result"
    }
   ],
   "source": [
    "yt(\"https://youtu.be/1I5ZMmrOfnA?list=PL8dPuuaLjXtNlUrzyH5r6jN9ulIgZBpdo\")"
   ]
  },
  {
   "cell_type": "code",
   "execution_count": 12,
   "metadata": {},
   "outputs": [
    {
     "data": {
      "text/html": [
       "\n",
       "    <iframe\n",
       "        width=\"500\"\n",
       "        height=\"281.25\"\n",
       "        src=\"https://youtube.com/embed/fpnE6UAfbtU?list=PL8dPuuaLjXtNlUrzyH5r6jN9ulIgZBpdo\"\n",
       "        frameborder=\"0\"\n",
       "        allowfullscreen>\n",
       "    </iframe>\n",
       "    "
      ],
      "text/plain": [
       "<IPython.core.display.HTML object>"
      ]
     },
     "execution_count": 12,
     "metadata": {},
     "output_type": "execute_result"
    }
   ],
   "source": [
    "yt(\"https://youtu.be/fpnE6UAfbtU?list=PL8dPuuaLjXtNlUrzyH5r6jN9ulIgZBpdo\")"
   ]
  },
  {
   "cell_type": "code",
   "execution_count": 15,
   "metadata": {},
   "outputs": [
    {
     "data": {
      "text/html": [
       "\n",
       "    <iframe\n",
       "        width=\"500\"\n",
       "        height=\"281.25\"\n",
       "        src=\"https://youtube.com/embed/FZGugFqdr60?list=PL8dPuuaLjXtNlUrzyH5r6jN9ulIgZBpdo\"\n",
       "        frameborder=\"0\"\n",
       "        allowfullscreen>\n",
       "    </iframe>\n",
       "    "
      ],
      "text/plain": [
       "<IPython.core.display.HTML object>"
      ]
     },
     "execution_count": 15,
     "metadata": {},
     "output_type": "execute_result"
    }
   ],
   "source": [
    "yt(\"https://youtu.be/FZGugFqdr60?list=PL8dPuuaLjXtNlUrzyH5r6jN9ulIgZBpdo\")"
   ]
  },
  {
   "cell_type": "markdown",
   "metadata": {},
   "source": [
    "### From Hardware to Software"
   ]
  },
  {
   "cell_type": "code",
   "execution_count": 17,
   "metadata": {},
   "outputs": [
    {
     "data": {
      "text/html": [
       "\n",
       "    <iframe\n",
       "        width=\"500\"\n",
       "        height=\"281.25\"\n",
       "        src=\"https://youtube.com/embed/zltgXvg6r3k?list=PL8dPuuaLjXtNlUrzyH5r6jN9ulIgZBpdo\"\n",
       "        frameborder=\"0\"\n",
       "        allowfullscreen>\n",
       "    </iframe>\n",
       "    "
      ],
      "text/plain": [
       "<IPython.core.display.HTML object>"
      ]
     },
     "execution_count": 17,
     "metadata": {},
     "output_type": "execute_result"
    }
   ],
   "source": [
    "yt(\"https://youtu.be/zltgXvg6r3k?list=PL8dPuuaLjXtNlUrzyH5r6jN9ulIgZBpdo\")"
   ]
  },
  {
   "cell_type": "markdown",
   "metadata": {},
   "source": [
    "### Modern CPU"
   ]
  },
  {
   "cell_type": "code",
   "execution_count": null,
   "metadata": {},
   "outputs": [],
   "source": [
    "yt(\"https://youtu.be/rtAlC5J1U40?list=PL8dPuuaLjXtNlUrzyH5r6jN9ulIgZBpdo\")"
   ]
  },
  {
   "cell_type": "markdown",
   "metadata": {},
   "source": [
    "## Foundations of Programming"
   ]
  },
  {
   "cell_type": "code",
   "execution_count": 18,
   "metadata": {},
   "outputs": [
    {
     "data": {
      "text/html": [
       "\n",
       "    <iframe\n",
       "        width=\"500\"\n",
       "        height=\"281.25\"\n",
       "        src=\"https://youtube.com/embed/nwDq4adJwzM?list=PL8dPuuaLjXtNlUrzyH5r6jN9ulIgZBpdo\"\n",
       "        frameborder=\"0\"\n",
       "        allowfullscreen>\n",
       "    </iframe>\n",
       "    "
      ],
      "text/plain": [
       "<IPython.core.display.HTML object>"
      ]
     },
     "execution_count": 18,
     "metadata": {},
     "output_type": "execute_result"
    }
   ],
   "source": [
    "yt(\"https://youtu.be/nwDq4adJwzM?list=PL8dPuuaLjXtNlUrzyH5r6jN9ulIgZBpdo\")"
   ]
  },
  {
   "cell_type": "code",
   "execution_count": 21,
   "metadata": {},
   "outputs": [
    {
     "data": {
      "text/html": [
       "\n",
       "    <iframe\n",
       "        width=\"500\"\n",
       "        height=\"281.25\"\n",
       "        src=\"https://youtube.com/embed/RU1u-js7db8?list=PL8dPuuaLjXtNlUrzyH5r6jN9ulIgZBpdo\"\n",
       "        frameborder=\"0\"\n",
       "        allowfullscreen>\n",
       "    </iframe>\n",
       "    "
      ],
      "text/plain": [
       "<IPython.core.display.HTML object>"
      ]
     },
     "execution_count": 21,
     "metadata": {},
     "output_type": "execute_result"
    }
   ],
   "source": [
    "yt(\"https://youtu.be/RU1u-js7db8?list=PL8dPuuaLjXtNlUrzyH5r6jN9ulIgZBpdo\")"
   ]
  },
  {
   "cell_type": "markdown",
   "metadata": {},
   "source": [
    "### Statements and Functions"
   ]
  },
  {
   "cell_type": "code",
   "execution_count": 23,
   "metadata": {},
   "outputs": [
    {
     "data": {
      "text/html": [
       "\n",
       "    <iframe\n",
       "        width=\"500\"\n",
       "        height=\"281.25\"\n",
       "        src=\"https://youtube.com/embed/l26oaHV7D40?list=PL8dPuuaLjXtNlUrzyH5r6jN9ulIgZBpdo\"\n",
       "        frameborder=\"0\"\n",
       "        allowfullscreen>\n",
       "    </iframe>\n",
       "    "
      ],
      "text/plain": [
       "<IPython.core.display.HTML object>"
      ]
     },
     "execution_count": 23,
     "metadata": {},
     "output_type": "execute_result"
    }
   ],
   "source": [
    "yt(\"https://youtu.be/l26oaHV7D40?list=PL8dPuuaLjXtNlUrzyH5r6jN9ulIgZBpdo\")"
   ]
  },
  {
   "cell_type": "markdown",
   "metadata": {},
   "source": [
    "### Algos and Data Structures"
   ]
  },
  {
   "cell_type": "code",
   "execution_count": 22,
   "metadata": {},
   "outputs": [
    {
     "data": {
      "text/html": [
       "\n",
       "    <iframe\n",
       "        width=\"500\"\n",
       "        height=\"281.25\"\n",
       "        src=\"https://youtube.com/embed/rL8X2mlNHPM?list=PL8dPuuaLjXtNlUrzyH5r6jN9ulIgZBpdo\"\n",
       "        frameborder=\"0\"\n",
       "        allowfullscreen>\n",
       "    </iframe>\n",
       "    "
      ],
      "text/plain": [
       "<IPython.core.display.HTML object>"
      ]
     },
     "execution_count": 22,
     "metadata": {},
     "output_type": "execute_result"
    }
   ],
   "source": [
    "yt(\"https://youtu.be/rL8X2mlNHPM?list=PL8dPuuaLjXtNlUrzyH5r6jN9ulIgZBpdo\")"
   ]
  },
  {
   "cell_type": "code",
   "execution_count": 24,
   "metadata": {},
   "outputs": [
    {
     "data": {
      "text/html": [
       "\n",
       "    <iframe\n",
       "        width=\"500\"\n",
       "        height=\"281.25\"\n",
       "        src=\"https://youtube.com/embed/DuDz6B4cqVc?list=PL8dPuuaLjXtNlUrzyH5r6jN9ulIgZBpdo\"\n",
       "        frameborder=\"0\"\n",
       "        allowfullscreen>\n",
       "    </iframe>\n",
       "    "
      ],
      "text/plain": [
       "<IPython.core.display.HTML object>"
      ]
     },
     "execution_count": 24,
     "metadata": {},
     "output_type": "execute_result"
    }
   ],
   "source": [
    "yt(\"https://youtu.be/DuDz6B4cqVc?list=PL8dPuuaLjXtNlUrzyH5r6jN9ulIgZBpdo\")"
   ]
  },
  {
   "cell_type": "markdown",
   "metadata": {},
   "source": [
    "## Advanced Components"
   ]
  },
  {
   "cell_type": "code",
   "execution_count": 25,
   "metadata": {},
   "outputs": [
    {
     "data": {
      "text/html": [
       "\n",
       "    <iframe\n",
       "        width=\"500\"\n",
       "        height=\"281.25\"\n",
       "        src=\"https://youtube.com/embed/6-tKOHICqrI?list=PL8dPuuaLjXtNlUrzyH5r6jN9ulIgZBpdo\"\n",
       "        frameborder=\"0\"\n",
       "        allowfullscreen>\n",
       "    </iframe>\n",
       "    "
      ],
      "text/plain": [
       "<IPython.core.display.HTML object>"
      ]
     },
     "execution_count": 25,
     "metadata": {},
     "output_type": "execute_result"
    }
   ],
   "source": [
    "yt(\"https://youtu.be/6-tKOHICqrI?list=PL8dPuuaLjXtNlUrzyH5r6jN9ulIgZBpdo\")"
   ]
  },
  {
   "cell_type": "code",
   "execution_count": 26,
   "metadata": {},
   "outputs": [
    {
     "data": {
      "text/html": [
       "\n",
       "    <iframe\n",
       "        width=\"500\"\n",
       "        height=\"281.25\"\n",
       "        src=\"https://youtube.com/embed/26QPDBe-NB8?list=PL8dPuuaLjXtNlUrzyH5r6jN9ulIgZBpdo\"\n",
       "        frameborder=\"0\"\n",
       "        allowfullscreen>\n",
       "    </iframe>\n",
       "    "
      ],
      "text/plain": [
       "<IPython.core.display.HTML object>"
      ]
     },
     "execution_count": 26,
     "metadata": {},
     "output_type": "execute_result"
    }
   ],
   "source": [
    "yt(\"https://youtu.be/26QPDBe-NB8?list=PL8dPuuaLjXtNlUrzyH5r6jN9ulIgZBpdo\")"
   ]
  },
  {
   "cell_type": "code",
   "execution_count": 27,
   "metadata": {},
   "outputs": [
    {
     "data": {
      "text/html": [
       "\n",
       "    <iframe\n",
       "        width=\"500\"\n",
       "        height=\"281.25\"\n",
       "        src=\"https://youtube.com/embed/TQCr9RV7twk?list=PL8dPuuaLjXtNlUrzyH5r6jN9ulIgZBpdo\"\n",
       "        frameborder=\"0\"\n",
       "        allowfullscreen>\n",
       "    </iframe>\n",
       "    "
      ],
      "text/plain": [
       "<IPython.core.display.HTML object>"
      ]
     },
     "execution_count": 27,
     "metadata": {},
     "output_type": "execute_result"
    }
   ],
   "source": [
    "yt(\"https://youtu.be/TQCr9RV7twk?list=PL8dPuuaLjXtNlUrzyH5r6jN9ulIgZBpdo\")"
   ]
  },
  {
   "cell_type": "code",
   "execution_count": 28,
   "metadata": {},
   "outputs": [
    {
     "data": {
      "text/html": [
       "\n",
       "    <iframe\n",
       "        width=\"500\"\n",
       "        height=\"281.25\"\n",
       "        src=\"https://youtube.com/embed/KN8YgJnShPM?list=PL8dPuuaLjXtNlUrzyH5r6jN9ulIgZBpdo\"\n",
       "        frameborder=\"0\"\n",
       "        allowfullscreen>\n",
       "    </iframe>\n",
       "    "
      ],
      "text/plain": [
       "<IPython.core.display.HTML object>"
      ]
     },
     "execution_count": 28,
     "metadata": {},
     "output_type": "execute_result"
    }
   ],
   "source": [
    "yt(\"https://youtu.be/KN8YgJnShPM?list=PL8dPuuaLjXtNlUrzyH5r6jN9ulIgZBpdo\")"
   ]
  },
  {
   "cell_type": "code",
   "execution_count": 29,
   "metadata": {},
   "outputs": [
    {
     "data": {
      "text/html": [
       "\n",
       "    <iframe\n",
       "        width=\"500\"\n",
       "        height=\"281.25\"\n",
       "        src=\"https://youtube.com/embed/OtDxDvCpPL4?list=PL8dPuuaLjXtNlUrzyH5r6jN9ulIgZBpdo\"\n",
       "        frameborder=\"0\"\n",
       "        allowfullscreen>\n",
       "    </iframe>\n",
       "    "
      ],
      "text/plain": [
       "<IPython.core.display.HTML object>"
      ]
     },
     "execution_count": 29,
     "metadata": {},
     "output_type": "execute_result"
    }
   ],
   "source": [
    "yt(\"https://youtu.be/OtDxDvCpPL4?list=PL8dPuuaLjXtNlUrzyH5r6jN9ulIgZBpdo\")"
   ]
  },
  {
   "cell_type": "code",
   "execution_count": null,
   "metadata": {},
   "outputs": [],
   "source": []
  }
 ],
 "metadata": {
  "kernelspec": {
   "display_name": "Python 3",
   "language": "python",
   "name": "python3"
  },
  "language_info": {
   "codemirror_mode": {
    "name": "ipython",
    "version": 3
   },
   "file_extension": ".py",
   "mimetype": "text/x-python",
   "name": "python",
   "nbconvert_exporter": "python",
   "pygments_lexer": "ipython3",
   "version": "3.7.3"
  },
  "toc-autonumbering": true
 },
 "nbformat": 4,
 "nbformat_minor": 2
}
