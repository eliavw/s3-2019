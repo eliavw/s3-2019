{
 "cells": [
  {
   "cell_type": "code",
   "execution_count": 1,
   "metadata": {},
   "outputs": [],
   "source": [
    "from IPython.display import HTML\n",
    "\n",
    "def yt(url, width=500, height=None):\n",
    "    \"\"\"\n",
    "    Function to embed a youtube movie in a notebook\n",
    "    \"\"\"\n",
    "    \n",
    "    if height is None:\n",
    "        height = (9/16*width)\n",
    "    \n",
    "    url = url.replace(\"youtu.be\", 'youtube.com/embed')\n",
    "    \n",
    "    embed_code = \"\"\"\n",
    "    <iframe\n",
    "        width=\"{0}\"\n",
    "        height=\"{1}\"\n",
    "        src=\"{2}\"\n",
    "        frameborder=\"0\"\n",
    "        allowfullscreen>\n",
    "    </iframe>\n",
    "    \"\"\".format(width, height, url)\n",
    "    \n",
    "    return HTML(embed_code)"
   ]
  },
  {
   "cell_type": "markdown",
   "metadata": {},
   "source": [
    "# Topic 06 - Deep Learning\n",
    "\n",
    "Deep learning is the particular AI technique that will power our self-driving car."
   ]
  },
  {
   "cell_type": "code",
   "execution_count": null,
   "metadata": {},
   "outputs": [],
   "source": []
  }
 ],
 "metadata": {
  "kernelspec": {
   "display_name": "Python 3",
   "language": "python",
   "name": "python3"
  },
  "language_info": {
   "codemirror_mode": {
    "name": "ipython",
    "version": 3
   },
   "file_extension": ".py",
   "mimetype": "text/x-python",
   "name": "python",
   "nbconvert_exporter": "python",
   "pygments_lexer": "ipython3",
   "version": "3.7.3"
  }
 },
 "nbformat": 4,
 "nbformat_minor": 2
}
