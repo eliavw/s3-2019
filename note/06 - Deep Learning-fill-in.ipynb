{
 "cells": [
  {
   "cell_type": "code",
   "execution_count": 1,
   "metadata": {},
   "outputs": [],
   "source": [
    "from IPython.display import HTML\n",
    "\n",
    "def yt(url, width=500, height=None):\n",
    "    \"\"\"\n",
    "    Function to embed a youtube movie in a notebook\n",
    "    \"\"\"\n",
    "    \n",
    "    if height is None:\n",
    "        height = (9/16*width)\n",
    "    \n",
    "    url = url.replace(\"youtu.be\", 'youtube.com/embed')\n",
    "    \n",
    "    embed_code = \"\"\"\n",
    "    <iframe\n",
    "        width=\"{0}\"\n",
    "        height=\"{1}\"\n",
    "        src=\"{2}\"\n",
    "        frameborder=\"0\"\n",
    "        allowfullscreen>\n",
    "    </iframe>\n",
    "    \"\"\".format(width, height, url)\n",
    "    \n",
    "    return HTML(embed_code)"
   ]
  },
  {
   "cell_type": "markdown",
   "metadata": {},
   "source": [
    "# Topic 06 - Deep Learning\n",
    "\n",
    "Deep learning is the particular AI technique that will power our self-driving car."
   ]
  },
  {
   "cell_type": "markdown",
   "metadata": {
    "toc-hr-collapsed": true
   },
   "source": [
    "# Introduction\n",
    "\n",
    "This is just a basic machine learning algorithm. However, if we manage to understand this thoroughly, it offers a straight path to understand, at least conceptually, deep learning. Deep learning models can get quite complex, but this complexity is mainly a consequence of their composite nature. The fundamental building block is actually rather simple, and logistic regression offers a good opportunity to understand these fundamentals."
   ]
  },
  {
   "cell_type": "code",
   "execution_count": 34,
   "metadata": {},
   "outputs": [],
   "source": [
    "# imports\n",
    "\n",
    "import numpy as np # as always\n",
    "import matplotlib.pyplot as plt\n",
    "import cv2\n",
    "\n",
    "import os\n",
    "from os.path import dirname\n",
    "\n",
    "\n",
    "%matplotlib inline"
   ]
  },
  {
   "cell_type": "code",
   "execution_count": 51,
   "metadata": {},
   "outputs": [],
   "source": [
    "redo_preprocessing = True\n",
    "\n",
    "# dirstuff\n",
    "this_dir = os.getcwd()\n",
    "root_dir = dirname(this_dir)\n",
    "data_dir = os.path.join(root_dir, 'resc', 'data', 'step-01', 'cats-vs-cars')\n",
    "train_dir, test_dir = os.path.join(data_dir, 'train'), os.path.join(data_dir, 'test')\n",
    "\n",
    "pp_dir = os.path.join(root_dir, 'resc', 'data', 'step-02')\n",
    "\n",
    "# get filenames\n",
    "fns_train = [os.path.join(train_dir, f) for f in os.listdir(train_dir)]\n",
    "fns_test = [os.path.join(test_dir, f) for f in os.listdir(test_dir)]\n",
    "\n",
    "fns_train.sort()\n",
    "fns_test.sort()\n",
    "\n",
    "train_array_fn = os.path.join(pp_dir, 'train.npy')\n",
    "test_array_fn = os.path.join(pp_dir, 'test.npy')\n",
    "\n",
    "# label data\n",
    "labels_train = np.array([fn.find('car-')>0 for fn in fns_train], dtype=int)\n",
    "labels_test = np.array([fn.find('car-')>0 for fn in fns_test], dtype=int)\n",
    "\n",
    "# Preprocess\n",
    "if redo_preprocessing:\n",
    "    nb_pix = 64\n",
    "    nb_channels = 3\n",
    "\n",
    "    train = np.zeros((len(fns_train), nb_pix, nb_pix, nb_channels))\n",
    "    test = np.zeros((len(fns_test), nb_pix, nb_pix, nb_channels))\n",
    "\n",
    "    for idx, fn in enumerate(fns_train):\n",
    "        img = cv2.imread(fn)\n",
    "        img = img/255.\n",
    "        res = cv2.resize(img, dsize=(64, 64))\n",
    "        res = res[:,:,[2,1,0]]\n",
    "\n",
    "        train[idx, :, :, :] = res \n",
    "\n",
    "    for idx, fn in enumerate(fns_test):\n",
    "        img = cv2.imread(fn)\n",
    "        img = img/255.\n",
    "        res = cv2.resize(img, dsize=(64, 64))\n",
    "        res = res[:,:,[2,1,0]]\n",
    "\n",
    "        test[idx, :, :, :] = res \n",
    "\n",
    "    np.save(train_array_fn, train)\n",
    "    np.save(test_array_fn, test)"
   ]
  },
  {
   "cell_type": "code",
   "execution_count": 52,
   "metadata": {},
   "outputs": [],
   "source": [
    "train_set_x_orig, train_set_y = np.load(train_array_fn), labels_train\n",
    "test_set_x_orig, test_set_y = np.load(test_array_fn), labels_test"
   ]
  },
  {
   "cell_type": "code",
   "execution_count": 54,
   "metadata": {},
   "outputs": [
    {
     "name": "stdout",
     "output_type": "stream",
     "text": [
      "\n",
      "The label is: 0, so it's a cat\n",
      "\n"
     ]
    },
    {
     "data": {
      "image/png": "[encoded data removed]",
      "text/plain": [
       "<Figure size 432x288 with 1 Axes>"
      ]
     },
     "metadata": {
      "needs_background": "light"
     },
     "output_type": "display_data"
    }
   ],
   "source": [
    "# Let us look at a single picture\n",
    "\n",
    "# Example of a picture\n",
    "index = 198\n",
    "plt.imshow(train_set_x_orig[index])\n",
    "\n",
    "msg = \"\"\"\n",
    "The label is: {}, so it's a {}\n",
    "\"\"\".format(train_set_y[index], 'car' if train_set_y[index] else 'cat')\n",
    "print(msg)"
   ]
  },
  {
   "cell_type": "code",
   "execution_count": 50,
   "metadata": {},
   "outputs": [
    {
     "data": {
      "text/plain": [
       "array([0, 0, 0, 0, 0, 0, 0, 0, 0, 0, 0, 0, 0, 0, 0, 0, 0, 0, 0, 0, 0, 0,\n",
       "       0, 0, 0, 0, 0, 0, 0, 0, 0, 0, 0, 0, 0, 0, 0, 0, 0, 0, 0, 0, 0, 0,\n",
       "       0, 0, 0, 0, 0, 0, 0, 0, 0, 0, 0, 0, 0, 0, 0, 0, 0, 0, 0, 0, 0, 0,\n",
       "       0, 0, 0, 0, 0, 0, 0, 0, 0, 0, 0, 0, 0, 0, 0, 0, 0, 0, 0, 0, 0, 0,\n",
       "       0, 0, 0, 0, 0, 0, 0, 0, 0, 0, 0, 0, 0, 0, 0, 0, 0, 0, 0, 0, 0, 0,\n",
       "       0, 0, 0, 0, 0, 0, 0, 0, 0, 0, 0, 0, 0, 0, 0, 0, 0, 0, 0, 0, 0, 0,\n",
       "       0, 0, 0, 0, 0, 0, 0, 0, 0, 0, 0, 0, 0, 0, 0, 0, 0, 0, 0, 0, 0, 0,\n",
       "       0, 0, 0, 0, 0, 0, 0, 0, 0, 0, 0, 0, 0, 0, 0, 0, 0, 0, 0, 0, 0, 0,\n",
       "       0, 0, 0, 0, 0, 0, 0, 0, 0, 0, 0, 0, 0, 0, 0, 0, 0, 0, 0, 0, 0, 0,\n",
       "       0, 0])"
      ]
     },
     "execution_count": 50,
     "metadata": {},
     "output_type": "execute_result"
    }
   ],
   "source": [
    "train_set_y"
   ]
  },
  {
   "cell_type": "markdown",
   "metadata": {},
   "source": [
    "## Exercise\n",
    "\n",
    "Make sure you understand how the preprocessing code above -more or less- works. Basically, using some libraries it takes `jpg` in and arrays out."
   ]
  },
  {
   "cell_type": "markdown",
   "metadata": {},
   "source": [
    "## Exercise\n",
    "\n",
    "It is always important, especially when dealing with linear algebra based algorithms, to make sure you are well aware of the dimensionality of your problem.\n",
    "\n",
    "Verify the dimensions of all your input data."
   ]
  },
  {
   "cell_type": "code",
   "execution_count": 151,
   "metadata": {},
   "outputs": [
    {
     "name": "stdout",
     "output_type": "stream",
     "text": [
      "\n",
      "The size of the training set:    None\n",
      "The size of the test set:        None\n",
      "The dimensions of the iamges:    None\n",
      "The number of channels:          None\n",
      "\n"
     ]
    }
   ],
   "source": [
    "# code your solution here\n",
    "nb_train = None\n",
    "nb_test = None\n",
    "dimension_of_image = None\n",
    "nb_channels=None\n",
    "\n",
    "# Message that prints our outputs. Make sure you understand how this works.\n",
    "msg = \"\"\"\n",
    "The size of the training set:    {}\n",
    "The size of the test set:        {}\n",
    "The dimensions of the iamges:    {}\n",
    "The number of channels:          {}\n",
    "\"\"\".format(nb_train, nb_test, dimension_of_image, nb_channels)\n",
    "print(msg) "
   ]
  },
  {
   "cell_type": "markdown",
   "metadata": {},
   "source": [
    "## Exercise - Reshape\n",
    "\n",
    "Reshape the input arrays. We don't want a tensor as input. We are just going to handle it as one big vector. That's inconvenient for us as humans, but our algorithm in this case would not care."
   ]
  },
  {
   "cell_type": "code",
   "execution_count": 27,
   "metadata": {},
   "outputs": [],
   "source": [
    "# code solution here.\n",
    "\n",
    "train_set_x = np.zeros((2000))\n",
    "train_set_y = np.zeros((2000))\n",
    "\n",
    "test_set_x = np.zeros((2000))\n",
    "test_set_y = np.zeros((2000))"
   ]
  },
  {
   "cell_type": "code",
   "execution_count": null,
   "metadata": {},
   "outputs": [],
   "source": []
  },
  {
   "cell_type": "markdown",
   "metadata": {
    "toc-hr-collapsed": false
   },
   "source": [
    "# Building blocks of the algorithm\n",
    "\n",
    "Our algorithm has a few parts.\n",
    "\n",
    "1. We need to initialize all the datastructures.\n",
    "2. Forward propagation\n",
    "3. Compute the Loss function\n",
    "4. Backward propagation"
   ]
  },
  {
   "cell_type": "markdown",
   "metadata": {
    "toc-hr-collapsed": true
   },
   "source": [
    "## Helper functions"
   ]
  },
  {
   "cell_type": "markdown",
   "metadata": {},
   "source": [
    "### Exercise\n",
    "\n",
    "Implement the sigmoid function. This converts any scaler into a value between 0 and 1.m"
   ]
  },
  {
   "cell_type": "code",
   "execution_count": null,
   "metadata": {},
   "outputs": [],
   "source": [
    "def sigmoid(z):\n",
    "    \"\"\"\n",
    "    Compute the sigmoid of z\n",
    "\n",
    "    Arguments:\n",
    "    z -- A scalar or numpy array of any size.\n",
    "\n",
    "    Return:\n",
    "    s -- sigmoid(z)\n",
    "    \"\"\"\n",
    "\n",
    "    ### START CODE HERE ### (≈ 1 line of code)\n",
    "    s = 1/(1+np.exp(-z))\n",
    "    ### END CODE HERE ###\n",
    "    \n",
    "    return s"
   ]
  },
  {
   "cell_type": "markdown",
   "metadata": {},
   "source": [
    "## Initialize\n",
    "\n",
    "Initialize the weights and the bias parameters. This basically means constructing arrays of correct dimensionality."
   ]
  },
  {
   "cell_type": "code",
   "execution_count": 157,
   "metadata": {},
   "outputs": [],
   "source": [
    "def initialize_weights(input_dimension):\n",
    "    \"\"\"\n",
    "    The weights are a vector (or matrix, depending how you look at it) with shape (input_dimension, 1)\n",
    "    \"\"\"\n",
    "    w = None\n",
    "    return w\n",
    "\n",
    "def initialize_bias(input_dimension):\n",
    "    w = None\n",
    "    return w"
   ]
  },
  {
   "cell_type": "markdown",
   "metadata": {},
   "source": [
    "## Forward propagation\n",
    "\n",
    "The first step is to take inputs, and propagete them forward through your very tiny network, as to get a first try at the solution."
   ]
  },
  {
   "cell_type": "code",
   "execution_count": null,
   "metadata": {},
   "outputs": [],
   "source": [
    "def forward_propagation(w, b, X):\n",
    "    m = Y.shape[1]\n",
    "    \n",
    "    A = sigmoid(np.dot(w.T, X) + b)                 # compute activation\n",
    "    \n",
    "    return A"
   ]
  },
  {
   "cell_type": "markdown",
   "metadata": {},
   "source": [
    "## Loss\n",
    "\n",
    "$\\mathcal{L}(O, O')$\n",
    "\n",
    "Now we need to compute how much this deviates from what we actually wanted. For some funky mathematical reasons, we cannot simply take the difference, but we need something that is called the log-loss."
   ]
  },
  {
   "cell_type": "code",
   "execution_count": 6,
   "metadata": {},
   "outputs": [],
   "source": [
    "def compute_loss(A, Y):\n",
    "    \"\"\"\n",
    "    Compute the log-loss function.\n",
    "    \"\"\"\n",
    "    loss = -(1/m)*np.sum(Y*np.log(A) + (1-Y)*np.log(1-A))# compute cost\n",
    "    return np.squeeze(loss)"
   ]
  },
  {
   "cell_type": "markdown",
   "metadata": {},
   "source": [
    "## Backward propagation\n",
    "\n",
    "Now we know three things:\n",
    "    - inputs\n",
    "    - desired outputs\n",
    "    - our outputs\n",
    "    \n",
    "Now, we are interested in how we need to change the parameters of our model in order to improve our performance. For this, we want to know how the loss function **changes** when we change the parameters.\n",
    "\n",
    "We only have a single sample of the loss function, so we want to know how much the loss function changes at **one single point**. Notice the simalirity with our discussion of derivatives. \n",
    "\n",
    "If think back of motion, we first defined speed as the distance travelled over a certain time interval. In this case, we were interested in how the distance **changes** when we change the time. When we wanted to know this change at **one single moment in time**, we could not longer rely on these intervals. But, we solved that problem by making the interval super, super, super small. To be precise, we looked at;\n",
    "\n",
    "$$\n",
    "\\text{lim}_{\\Delta t \\rightarrow 0} \\frac{\\Delta s(t)}{\\Delta t} =  \\frac{d}{dt} s(t)\n",
    "$$\n",
    "\n",
    "which we then started calling the **derivative of s**. Of course, the change of distance per time is just the **velocity**.\n",
    "\n",
    "Now, the only thing to understand is that derivatives are more than a tool for calculating velocities. They quantify change. And moreover, they quantify change at single points, something that is impossible without this *limit-trick*! Now, in Machine Learning, we find ourselves in a situation where we literally need exactly that: *quantify the change of the cost function, when the parameters vary*. Hence, we shall use derivatives again!\n",
    "\n",
    "If we know how the loss function changes with respect to the paramters, we can change the parameters to get a better model. How does this work? Simple! Again think of the distance-time-velocity example. The distance plays the role of the cost. The goal is to minimize the distance. There are three possible scenariosIf my velocity is positive, I know I am increasing the distance. "
   ]
  },
  {
   "cell_type": "code",
   "execution_count": 2,
   "metadata": {},
   "outputs": [],
   "source": [
    "def backward_propagation(A, X, Y):\n",
    "    \"\"\"\n",
    "    This step could also simply be called differentation. But OK,\n",
    "    in neural network land this is called backpropagation, or backprop.\n",
    "    \n",
    "    Just remember it is just derivation.\n",
    "    \"\"\"\n",
    "    dw = (1/m) * np.dot(X, (A-Y).T)\n",
    "    db = (1/m) * np.sum(A-Y)\n",
    "    return dw, db"
   ]
  },
  {
   "cell_type": "markdown",
   "metadata": {},
   "source": [
    "## Putting it all together\n",
    "\n",
    "Group your forward propagation, cost computation and backward propagation together in one easy function. "
   ]
  },
  {
   "cell_type": "code",
   "execution_count": 7,
   "metadata": {},
   "outputs": [],
   "source": [
    "def single_attempt_plus_what_to_try_next(w, b, X, Y):\n",
    "    \n",
    "    # Try our model\n",
    "    A = forward_propagation(w, b, X)\n",
    "    \n",
    "    # See how well it did\n",
    "    loss = compute_loss(A, Y)\n",
    "    \n",
    "    # Figure out how to improve\n",
    "    dw, db = backward_propagation(A, X, Y)\n",
    "    \n",
    "    return dw, db, loss"
   ]
  },
  {
   "cell_type": "markdown",
   "metadata": {},
   "source": [
    "## Improving the model\n",
    "\n",
    "Of course, now we now all about the derivatives and how they can tell us where to go.\n",
    "\n",
    "Once again, think of the analogy of the motion of a car. If the speed at time $t=t_0$ is negative, than we know that at a later time, let's call that $t=t_1$, we'll be closer to the origin, which is where we'd like to end up. And if the speed is positive, we should just do the reverse. The point is surprisingly simple; if you know the derivative, you something about the *motion* of your system. So, you know where to look to find a _time_ where you were closer to the origin. The amazing thing of the derivative is that information about change can be learned from observing just a single point! As if you could look at a normal picture and still could tell how everything is moving.\n",
    "\n",
    "So, what now? Now that we know (thanks to the derivatives!) where in parameter space to look next, we should *update our parameter accordingly!*. So, let's do that."
   ]
  },
  {
   "cell_type": "code",
   "execution_count": 10,
   "metadata": {},
   "outputs": [],
   "source": [
    "def improve_model(w, b, dw, db, learning_rate):\n",
    "    w = w - learning_rate*dw\n",
    "    b = b - learning_rate*db\n",
    "    return w, b"
   ]
  },
  {
   "cell_type": "markdown",
   "metadata": {},
   "source": [
    "## Train (fit)\n",
    "\n",
    "One iteration is not enough, we need to this entire thing over and over again.m"
   ]
  },
  {
   "cell_type": "code",
   "execution_count": 13,
   "metadata": {},
   "outputs": [],
   "source": [
    "def train_model(X, Y, nb_iterations, learning_rate):\n",
    "    \n",
    "    # Init\n",
    "    input_dimension = X.shape[0]\n",
    "    w = initialize_weights(input_dimension)\n",
    "    b = initialize_bias(input_dimension)\n",
    "    \n",
    "    losses = []\n",
    "    \n",
    "    for i in range(nb_iterations):\n",
    "    \n",
    "        # Forward propagation\n",
    "        A = forward_propagation(w, b, X)\n",
    "\n",
    "        # Compute loss\n",
    "        loss = compute_loss(A, Y)\n",
    "\n",
    "        # Backward propagation/backprop/derivation\n",
    "        dw, db = backward_propagation(A, X, Y)\n",
    "\n",
    "        # Improve model\n",
    "        w, b = improve_model(w, b, dw, db, learning_rate)\n",
    "        \n",
    "        # Track the losses to verify we are, in fact, learning\n",
    "        if i % 100 == 0:\n",
    "            losses.append(loss)\n",
    "    \n",
    "    return w, b, dw, db, losses"
   ]
  },
  {
   "cell_type": "markdown",
   "metadata": {},
   "source": [
    "## Test (predict)\n",
    "\n",
    "Now, use our model. _In principle_, this is just forward propagation, but we need to convert our outputs to binary outputs."
   ]
  },
  {
   "cell_type": "code",
   "execution_count": 18,
   "metadata": {},
   "outputs": [],
   "source": [
    "def predict(w, b, X):\n",
    "    \n",
    "    # Init\n",
    "    input_dimension = X.shape[0]\n",
    "    Y_pred = np.zeros(input_dimension)\n",
    "    \n",
    "    # Forward propagation\n",
    "    A = forward_propagation(w, b, X)\n",
    "    \n",
    "    # Conversion to 0 (dog) or 1 (cat)\n",
    "    Y_pred = A[0, i] > 0.5\n",
    "    \n",
    "    # Reshape to (1 x input_dimension) matrix\n",
    "    Y_pred = Y_pred.reshape(1, -1)\n",
    "    \n",
    "    assert Y_pred.shape == (1, input_dimension) # Assert statements warn when something is off\n",
    "    \n",
    "    return Y_prediction"
   ]
  },
  {
   "cell_type": "markdown",
   "metadata": {
    "toc-hr-collapsed": true
   },
   "source": [
    "# Bringing it all back home\n",
    "\n",
    "Now, we do the entire task."
   ]
  },
  {
   "cell_type": "markdown",
   "metadata": {},
   "source": [
    "## Training\n",
    "\n",
    "First we learn, on the training data."
   ]
  },
  {
   "cell_type": "code",
   "execution_count": 25,
   "metadata": {},
   "outputs": [
    {
     "ename": "AttributeError",
     "evalue": "'NoneType' object has no attribute 'shape'",
     "output_type": "error",
     "traceback": [
      "\u001b[0;31m---------------------------------------------------------------------------\u001b[0m",
      "\u001b[0;31mAttributeError\u001b[0m                            Traceback (most recent call last)",
      "\u001b[0;32m<ipython-input-25-fe7824cd4dfc>\u001b[0m in \u001b[0;36m<module>\u001b[0;34m\u001b[0m\n\u001b[1;32m     10\u001b[0m                                    \u001b[0mY_train\u001b[0m\u001b[0;34m,\u001b[0m\u001b[0;34m\u001b[0m\u001b[0;34m\u001b[0m\u001b[0m\n\u001b[1;32m     11\u001b[0m                                    \u001b[0mnb_iterations\u001b[0m\u001b[0;34m,\u001b[0m\u001b[0;34m\u001b[0m\u001b[0;34m\u001b[0m\u001b[0m\n\u001b[0;32m---> 12\u001b[0;31m                                    learning_rate)\n\u001b[0m",
      "\u001b[0;32m<ipython-input-13-3b5b849f6895>\u001b[0m in \u001b[0;36mtrain_model\u001b[0;34m(X, Y, nb_iterations, learning_rate)\u001b[0m\n\u001b[1;32m      2\u001b[0m \u001b[0;34m\u001b[0m\u001b[0m\n\u001b[1;32m      3\u001b[0m     \u001b[0;31m# Init\u001b[0m\u001b[0;34m\u001b[0m\u001b[0;34m\u001b[0m\u001b[0;34m\u001b[0m\u001b[0m\n\u001b[0;32m----> 4\u001b[0;31m     \u001b[0minput_dimension\u001b[0m \u001b[0;34m=\u001b[0m \u001b[0mX\u001b[0m\u001b[0;34m.\u001b[0m\u001b[0mshape\u001b[0m\u001b[0;34m[\u001b[0m\u001b[0;36m0\u001b[0m\u001b[0;34m]\u001b[0m\u001b[0;34m\u001b[0m\u001b[0;34m\u001b[0m\u001b[0m\n\u001b[0m\u001b[1;32m      5\u001b[0m     \u001b[0mw\u001b[0m \u001b[0;34m=\u001b[0m \u001b[0minitialize_weights\u001b[0m\u001b[0;34m(\u001b[0m\u001b[0minput_dimension\u001b[0m\u001b[0;34m)\u001b[0m\u001b[0;34m\u001b[0m\u001b[0;34m\u001b[0m\u001b[0m\n\u001b[1;32m      6\u001b[0m     \u001b[0mb\u001b[0m \u001b[0;34m=\u001b[0m \u001b[0minitialize_bias\u001b[0m\u001b[0;34m(\u001b[0m\u001b[0minput_dimension\u001b[0m\u001b[0;34m)\u001b[0m\u001b[0;34m\u001b[0m\u001b[0;34m\u001b[0m\u001b[0m\n",
      "\u001b[0;31mAttributeError\u001b[0m: 'NoneType' object has no attribute 'shape'"
     ]
    }
   ],
   "source": [
    "# parameters\n",
    "\n",
    "X_train = train_set_x\n",
    "Y_train = train_set_y\n",
    "nb_iterations = 1000\n",
    "learning_rate = 5 * 10**(-3)\n",
    "\n",
    "# actual training\n",
    "w, b, dw, db, losses = train_model(X_train,\n",
    "                                   Y_train,\n",
    "                                   nb_iterations,\n",
    "                                   learning_rate)"
   ]
  },
  {
   "cell_type": "code",
   "execution_count": 28,
   "metadata": {},
   "outputs": [
    {
     "ename": "NameError",
     "evalue": "name 'w' is not defined",
     "output_type": "error",
     "traceback": [
      "\u001b[0;31m---------------------------------------------------------------------------\u001b[0m",
      "\u001b[0;31mNameError\u001b[0m                                 Traceback (most recent call last)",
      "\u001b[0;32m<ipython-input-28-c4d467a24b73>\u001b[0m in \u001b[0;36m<module>\u001b[0;34m\u001b[0m\n\u001b[1;32m      1\u001b[0m \u001b[0;31m# Performance on training set\u001b[0m\u001b[0;34m\u001b[0m\u001b[0;34m\u001b[0m\u001b[0;34m\u001b[0m\u001b[0m\n\u001b[0;32m----> 2\u001b[0;31m \u001b[0mY_pred_train\u001b[0m \u001b[0;34m=\u001b[0m \u001b[0mpredict\u001b[0m\u001b[0;34m(\u001b[0m\u001b[0mw\u001b[0m\u001b[0;34m,\u001b[0m \u001b[0mb\u001b[0m\u001b[0;34m,\u001b[0m \u001b[0mX_train\u001b[0m\u001b[0;34m)\u001b[0m\u001b[0;34m\u001b[0m\u001b[0;34m\u001b[0m\u001b[0m\n\u001b[0m\u001b[1;32m      3\u001b[0m \u001b[0;34m\u001b[0m\u001b[0m\n\u001b[1;32m      4\u001b[0m \u001b[0;36m100\u001b[0m \u001b[0;34m-\u001b[0m \u001b[0mnp\u001b[0m\u001b[0;34m.\u001b[0m\u001b[0mmean\u001b[0m\u001b[0;34m(\u001b[0m\u001b[0mnp\u001b[0m\u001b[0;34m.\u001b[0m\u001b[0mabs\u001b[0m\u001b[0;34m(\u001b[0m\u001b[0mY_pred_train\u001b[0m \u001b[0;34m-\u001b[0m \u001b[0mY_train\u001b[0m\u001b[0;34m)\u001b[0m\u001b[0;34m)\u001b[0m \u001b[0;34m*\u001b[0m \u001b[0;36m100\u001b[0m\u001b[0;34m\u001b[0m\u001b[0;34m\u001b[0m\u001b[0m\n",
      "\u001b[0;31mNameError\u001b[0m: name 'w' is not defined"
     ]
    }
   ],
   "source": [
    "# Performance on training set\n",
    "Y_pred_train = predict(w, b, X_train)\n",
    "\n",
    "100 - np.mean(np.abs(Y_pred_train - Y_train)) * 100"
   ]
  },
  {
   "cell_type": "markdown",
   "metadata": {},
   "source": [
    "## Testing"
   ]
  },
  {
   "cell_type": "code",
   "execution_count": null,
   "metadata": {},
   "outputs": [],
   "source": [
    "X_test = test_set_x\n",
    "Y_test = test_set_y\n",
    "\n",
    "# Performance on training set\n",
    "Y_pred_test = predict(w, b, X_test)\n",
    "\n",
    "100 - np.mean(np.abs(Y_pred_test - Y_test)) * 100"
   ]
  },
  {
   "cell_type": "markdown",
   "metadata": {},
   "source": [
    "### Closer look\n"
   ]
  },
  {
   "cell_type": "code",
   "execution_count": 30,
   "metadata": {},
   "outputs": [
    {
     "ename": "NameError",
     "evalue": "name 'plt' is not defined",
     "output_type": "error",
     "traceback": [
      "\u001b[0;31m---------------------------------------------------------------------------\u001b[0m",
      "\u001b[0;31mNameError\u001b[0m                                 Traceback (most recent call last)",
      "\u001b[0;32m<ipython-input-30-10e2fd677556>\u001b[0m in \u001b[0;36m<module>\u001b[0;34m\u001b[0m\n\u001b[1;32m      1\u001b[0m \u001b[0;31m# Example of a picture that was wrongly classified.\u001b[0m\u001b[0;34m\u001b[0m\u001b[0;34m\u001b[0m\u001b[0;34m\u001b[0m\u001b[0m\n\u001b[1;32m      2\u001b[0m \u001b[0mindex\u001b[0m \u001b[0;34m=\u001b[0m \u001b[0;36m1\u001b[0m\u001b[0;34m\u001b[0m\u001b[0;34m\u001b[0m\u001b[0m\n\u001b[0;32m----> 3\u001b[0;31m \u001b[0mplt\u001b[0m\u001b[0;34m.\u001b[0m\u001b[0mimshow\u001b[0m\u001b[0;34m(\u001b[0m\u001b[0mtest_set_x_flatten\u001b[0m\u001b[0;34m[\u001b[0m\u001b[0;34m:\u001b[0m\u001b[0;34m,\u001b[0m\u001b[0mindex\u001b[0m\u001b[0;34m]\u001b[0m\u001b[0;34m.\u001b[0m\u001b[0mreshape\u001b[0m\u001b[0;34m(\u001b[0m\u001b[0;34m(\u001b[0m\u001b[0mnum_px\u001b[0m\u001b[0;34m,\u001b[0m \u001b[0mnum_px\u001b[0m\u001b[0;34m,\u001b[0m \u001b[0;36m3\u001b[0m\u001b[0;34m)\u001b[0m\u001b[0;34m)\u001b[0m\u001b[0;34m)\u001b[0m\u001b[0;34m\u001b[0m\u001b[0;34m\u001b[0m\u001b[0m\n\u001b[0m\u001b[1;32m      4\u001b[0m \u001b[0mprint\u001b[0m \u001b[0;34m(\u001b[0m\u001b[0;34m\"y = \"\u001b[0m \u001b[0;34m+\u001b[0m \u001b[0mstr\u001b[0m\u001b[0;34m(\u001b[0m\u001b[0mtest_set_y\u001b[0m\u001b[0;34m[\u001b[0m\u001b[0;36m0\u001b[0m\u001b[0;34m,\u001b[0m\u001b[0mindex\u001b[0m\u001b[0;34m]\u001b[0m\u001b[0;34m)\u001b[0m \u001b[0;34m+\u001b[0m \u001b[0;34m\", you predicted that it is a \\\"\"\u001b[0m \u001b[0;34m+\u001b[0m \u001b[0mclasses\u001b[0m\u001b[0;34m[\u001b[0m\u001b[0md\u001b[0m\u001b[0;34m[\u001b[0m\u001b[0;34m\"Y_prediction_test\"\u001b[0m\u001b[0;34m]\u001b[0m\u001b[0;34m[\u001b[0m\u001b[0;36m0\u001b[0m\u001b[0;34m,\u001b[0m\u001b[0mindex\u001b[0m\u001b[0;34m]\u001b[0m\u001b[0;34m]\u001b[0m\u001b[0;34m.\u001b[0m\u001b[0mdecode\u001b[0m\u001b[0;34m(\u001b[0m\u001b[0;34m\"utf-8\"\u001b[0m\u001b[0;34m)\u001b[0m \u001b[0;34m+\u001b[0m  \u001b[0;34m\"\\\" picture.\"\u001b[0m\u001b[0;34m)\u001b[0m\u001b[0;34m\u001b[0m\u001b[0;34m\u001b[0m\u001b[0m\n",
      "\u001b[0;31mNameError\u001b[0m: name 'plt' is not defined"
     ]
    }
   ],
   "source": [
    "# Example of a picture that was wrongly classified.\n",
    "index = 1\n",
    "plt.imshow(test_set_x_flatten[:,index].reshape((num_px, num_px, 3)))\n",
    "print (\"y = \" + str(test_set_y[0,index]) + \", you predicted that it is a \\\"\" + classes[d[\"Y_prediction_test\"][0,index]].decode(\"utf-8\") +  \"\\\" picture.\")"
   ]
  },
  {
   "cell_type": "markdown",
   "metadata": {},
   "source": [
    "### Loss-plot\n",
    "\n",
    "In  this way we can literally check that we are learning!"
   ]
  },
  {
   "cell_type": "code",
   "execution_count": 32,
   "metadata": {},
   "outputs": [
    {
     "ename": "NameError",
     "evalue": "name 'd' is not defined",
     "output_type": "error",
     "traceback": [
      "\u001b[0;31m---------------------------------------------------------------------------\u001b[0m",
      "\u001b[0;31mNameError\u001b[0m                                 Traceback (most recent call last)",
      "\u001b[0;32m<ipython-input-32-e4e86ea9aeb9>\u001b[0m in \u001b[0;36m<module>\u001b[0;34m\u001b[0m\n\u001b[1;32m      1\u001b[0m \u001b[0;31m# Plot learning curve (with costs)\u001b[0m\u001b[0;34m\u001b[0m\u001b[0;34m\u001b[0m\u001b[0;34m\u001b[0m\u001b[0m\n\u001b[0;32m----> 2\u001b[0;31m \u001b[0mcosts\u001b[0m \u001b[0;34m=\u001b[0m \u001b[0mnp\u001b[0m\u001b[0;34m.\u001b[0m\u001b[0msqueeze\u001b[0m\u001b[0;34m(\u001b[0m\u001b[0md\u001b[0m\u001b[0;34m[\u001b[0m\u001b[0;34m'costs'\u001b[0m\u001b[0;34m]\u001b[0m\u001b[0;34m)\u001b[0m\u001b[0;34m\u001b[0m\u001b[0;34m\u001b[0m\u001b[0m\n\u001b[0m\u001b[1;32m      3\u001b[0m \u001b[0mplt\u001b[0m\u001b[0;34m.\u001b[0m\u001b[0mplot\u001b[0m\u001b[0;34m(\u001b[0m\u001b[0mcosts\u001b[0m\u001b[0;34m)\u001b[0m\u001b[0;34m\u001b[0m\u001b[0;34m\u001b[0m\u001b[0m\n\u001b[1;32m      4\u001b[0m \u001b[0mplt\u001b[0m\u001b[0;34m.\u001b[0m\u001b[0mylabel\u001b[0m\u001b[0;34m(\u001b[0m\u001b[0;34m'cost'\u001b[0m\u001b[0;34m)\u001b[0m\u001b[0;34m\u001b[0m\u001b[0;34m\u001b[0m\u001b[0m\n\u001b[1;32m      5\u001b[0m \u001b[0mplt\u001b[0m\u001b[0;34m.\u001b[0m\u001b[0mxlabel\u001b[0m\u001b[0;34m(\u001b[0m\u001b[0;34m'iterations (per hundreds)'\u001b[0m\u001b[0;34m)\u001b[0m\u001b[0;34m\u001b[0m\u001b[0;34m\u001b[0m\u001b[0m\n",
      "\u001b[0;31mNameError\u001b[0m: name 'd' is not defined"
     ]
    }
   ],
   "source": [
    "# Plot learning curve (with costs)\n",
    "costs = np.squeeze(d['costs'])\n",
    "plt.plot(costs)\n",
    "plt.ylabel('cost')\n",
    "plt.xlabel('iterations (per hundreds)')\n",
    "plt.title(\"Learning rate =\" + str(d[\"learning_rate\"]))\n",
    "plt.show()"
   ]
  },
  {
   "cell_type": "markdown",
   "metadata": {},
   "source": [
    "### Closer look at learning rates"
   ]
  },
  {
   "cell_type": "code",
   "execution_count": null,
   "metadata": {},
   "outputs": [],
   "source": [
    "learning_rates = [0.01, 0.001, 0.0001]\n",
    "models = {}\n",
    "for i in learning_rates:\n",
    "    print (\"learning rate is: \" + str(i))\n",
    "    models[str(i)] = model(train_set_x, train_set_y, test_set_x, test_set_y, num_iterations = 1500, learning_rate = i, print_cost = False)\n",
    "    print ('\\n' + \"-------------------------------------------------------\" + '\\n')\n",
    "\n",
    "for i in learning_rates:\n",
    "    plt.plot(np.squeeze(models[str(i)][\"costs\"]), label= str(models[str(i)][\"learning_rate\"]))\n",
    "\n",
    "plt.ylabel('cost')\n",
    "plt.xlabel('iterations (hundreds)')\n",
    "\n",
    "legend = plt.legend(loc='upper center', shadow=True)\n",
    "frame = legend.get_frame()\n",
    "frame.set_facecolor('0.90')\n",
    "plt.show()"
   ]
  }
 ],
 "metadata": {
  "kernelspec": {
   "display_name": "s3",
   "language": "python",
   "name": "s3"
  },
  "language_info": {
   "codemirror_mode": {
    "name": "ipython",
    "version": 3
   },
   "file_extension": ".py",
   "mimetype": "text/x-python",
   "name": "python",
   "nbconvert_exporter": "python",
   "pygments_lexer": "ipython3",
   "version": "3.7.3"
  },
  "toc-autonumbering": true
 },
 "nbformat": 4,
 "nbformat_minor": 2
}
