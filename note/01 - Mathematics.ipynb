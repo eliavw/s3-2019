{
 "cells": [
  {
   "cell_type": "markdown",
   "metadata": {
    "colab_type": "text",
    "id": "Dniuy-eYBLmZ"
   },
   "source": [
    "# Topic 01: Mathematics\n",
    "\n",
    "In this topic we will discuss the basics of what we will use."
   ]
  },
  {
   "cell_type": "code",
   "execution_count": 2,
   "metadata": {},
   "outputs": [],
   "source": [
    "# General stuff.\n",
    "\n",
    "from IPython.display import HTML\n",
    "\n",
    "def yt(url, width=500, height=None):\n",
    "    \"\"\"\n",
    "    Function to embed a youtube movie in a notebook\n",
    "    \"\"\"\n",
    "    \n",
    "    if height is None:\n",
    "        height = (9/16*width)\n",
    "    \n",
    "    url = url.replace(\"youtu.be\", 'youtube.com/embed')\n",
    "    \n",
    "    embed_code = \"\"\"\n",
    "    <iframe\n",
    "        width=\"{0}\"\n",
    "        height=\"{1}\"\n",
    "        src=\"{2}\"\n",
    "        frameborder=\"0\"\n",
    "        allowfullscreen>\n",
    "    </iframe>\n",
    "    \"\"\".format(width, height, url)\n",
    "    \n",
    "    return HTML(embed_code)"
   ]
  },
  {
   "cell_type": "markdown",
   "metadata": {
    "colab_type": "text",
    "id": "dhWomvxcBe1H"
   },
   "source": [
    "# Linear Algebra"
   ]
  },
  {
   "cell_type": "markdown",
   "metadata": {},
   "source": [
    "## Fundamental objects\n",
    "\n",
    "The objects that we deal with."
   ]
  },
  {
   "cell_type": "markdown",
   "metadata": {
    "colab": {},
    "colab_type": "code",
    "id": "Uu-OpbcMBXEE"
   },
   "source": [
    "### Scalars"
   ]
  },
  {
   "cell_type": "markdown",
   "metadata": {},
   "source": [
    "### Vectors"
   ]
  },
  {
   "cell_type": "code",
   "execution_count": 2,
   "metadata": {},
   "outputs": [
    {
     "data": {
      "text/html": [
       "\n",
       "    <iframe\n",
       "        width=\"750\"\n",
       "        height=\"421.875\"\n",
       "        src=\"https://youtube.com/embed/fNk_zzaMoSs?list=PLZHQObOWTQDPD3MizzM2xVFitgF8hE_ab\"\n",
       "        frameborder=\"0\"\n",
       "        allowfullscreen>\n",
       "    </iframe>\n",
       "    "
      ],
      "text/plain": [
       "<IPython.core.display.HTML object>"
      ]
     },
     "execution_count": 2,
     "metadata": {},
     "output_type": "execute_result"
    }
   ],
   "source": [
    "yt(\"https://youtu.be/fNk_zzaMoSs?list=PLZHQObOWTQDPD3MizzM2xVFitgF8hE_ab\")"
   ]
  },
  {
   "cell_type": "markdown",
   "metadata": {},
   "source": [
    "Basis vectors # TODO"
   ]
  },
  {
   "cell_type": "code",
   "execution_count": 3,
   "metadata": {},
   "outputs": [
    {
     "data": {
      "text/html": [
       "\n",
       "    <iframe\n",
       "        width=\"750\"\n",
       "        height=\"421.875\"\n",
       "        src=\"https://youtube.com/embed/k7RM-ot2NWY?list=PLZHQObOWTQDPD3MizzM2xVFitgF8hE_ab\"\n",
       "        frameborder=\"0\"\n",
       "        allowfullscreen>\n",
       "    </iframe>\n",
       "    "
      ],
      "text/plain": [
       "<IPython.core.display.HTML object>"
      ]
     },
     "execution_count": 3,
     "metadata": {},
     "output_type": "execute_result"
    }
   ],
   "source": [
    "yt(\"https://youtu.be/k7RM-ot2NWY?list=PLZHQObOWTQDPD3MizzM2xVFitgF8hE_ab\")"
   ]
  },
  {
   "cell_type": "markdown",
   "metadata": {},
   "source": [
    "### Matrices"
   ]
  },
  {
   "cell_type": "code",
   "execution_count": 4,
   "metadata": {},
   "outputs": [
    {
     "data": {
      "text/html": [
       "\n",
       "    <iframe\n",
       "        width=\"750\"\n",
       "        height=\"421.875\"\n",
       "        src=\"https://youtube.com/embed/kYB8IZa5AuE?list=PLZHQObOWTQDPD3MizzM2xVFitgF8hE_ab\"\n",
       "        frameborder=\"0\"\n",
       "        allowfullscreen>\n",
       "    </iframe>\n",
       "    "
      ],
      "text/plain": [
       "<IPython.core.display.HTML object>"
      ]
     },
     "execution_count": 4,
     "metadata": {},
     "output_type": "execute_result"
    }
   ],
   "source": [
    "yt(\"https://youtu.be/kYB8IZa5AuE?list=PLZHQObOWTQDPD3MizzM2xVFitgF8hE_ab\")"
   ]
  },
  {
   "cell_type": "markdown",
   "metadata": {},
   "source": [
    "Compositions of transformations can be translated to matrix operations, such as matrix multiplication."
   ]
  },
  {
   "cell_type": "code",
   "execution_count": 5,
   "metadata": {},
   "outputs": [
    {
     "data": {
      "text/html": [
       "\n",
       "    <iframe\n",
       "        width=\"750\"\n",
       "        height=\"421.875\"\n",
       "        src=\"https://youtube.com/embed/XkY2DOUCWMU?list=PLZHQObOWTQDPD3MizzM2xVFitgF8hE_ab\"\n",
       "        frameborder=\"0\"\n",
       "        allowfullscreen>\n",
       "    </iframe>\n",
       "    "
      ],
      "text/plain": [
       "<IPython.core.display.HTML object>"
      ]
     },
     "execution_count": 5,
     "metadata": {},
     "output_type": "execute_result"
    }
   ],
   "source": [
    "yt(\"https://youtu.be/XkY2DOUCWMU?list=PLZHQObOWTQDPD3MizzM2xVFitgF8hE_ab\")"
   ]
  },
  {
   "cell_type": "code",
   "execution_count": 3,
   "metadata": {},
   "outputs": [
    {
     "data": {
      "text/html": [
       "\n",
       "    <iframe\n",
       "        width=\"500\"\n",
       "        height=\"281.25\"\n",
       "        src=\"https://youtube.com/embed/rHLEWRxRGiM?list=PLZHQObOWTQDPD3MizzM2xVFitgF8hE_ab\"\n",
       "        frameborder=\"0\"\n",
       "        allowfullscreen>\n",
       "    </iframe>\n",
       "    "
      ],
      "text/plain": [
       "<IPython.core.display.HTML object>"
      ]
     },
     "execution_count": 3,
     "metadata": {},
     "output_type": "execute_result"
    }
   ],
   "source": [
    "yt(\"https://youtu.be/rHLEWRxRGiM?list=PLZHQObOWTQDPD3MizzM2xVFitgF8hE_ab\")"
   ]
  },
  {
   "cell_type": "markdown",
   "metadata": {},
   "source": [
    "### Tensors\n",
    "\n",
    "The last, and most general object"
   ]
  },
  {
   "cell_type": "code",
   "execution_count": null,
   "metadata": {},
   "outputs": [],
   "source": []
  },
  {
   "cell_type": "markdown",
   "metadata": {},
   "source": [
    "## Important Operations and Uses"
   ]
  },
  {
   "cell_type": "markdown",
   "metadata": {},
   "source": [
    "### Scalar Product"
   ]
  },
  {
   "cell_type": "code",
   "execution_count": 4,
   "metadata": {},
   "outputs": [
    {
     "data": {
      "text/html": [
       "\n",
       "    <iframe\n",
       "        width=\"500\"\n",
       "        height=\"281.25\"\n",
       "        src=\"https://youtube.com/embed/LyGKycYT2v0?list=PLZHQObOWTQDPD3MizzM2xVFitgF8hE_ab\"\n",
       "        frameborder=\"0\"\n",
       "        allowfullscreen>\n",
       "    </iframe>\n",
       "    "
      ],
      "text/plain": [
       "<IPython.core.display.HTML object>"
      ]
     },
     "execution_count": 4,
     "metadata": {},
     "output_type": "execute_result"
    }
   ],
   "source": [
    "yt(\"https://youtu.be/LyGKycYT2v0?list=PLZHQObOWTQDPD3MizzM2xVFitgF8hE_ab\")"
   ]
  },
  {
   "cell_type": "markdown",
   "metadata": {},
   "source": [
    "### Cross Product"
   ]
  },
  {
   "cell_type": "code",
   "execution_count": 5,
   "metadata": {},
   "outputs": [
    {
     "data": {
      "text/html": [
       "\n",
       "    <iframe\n",
       "        width=\"500\"\n",
       "        height=\"281.25\"\n",
       "        src=\"https://youtube.com/embed/eu6i7WJeinw?list=PLZHQObOWTQDPD3MizzM2xVFitgF8hE_ab\"\n",
       "        frameborder=\"0\"\n",
       "        allowfullscreen>\n",
       "    </iframe>\n",
       "    "
      ],
      "text/plain": [
       "<IPython.core.display.HTML object>"
      ]
     },
     "execution_count": 5,
     "metadata": {},
     "output_type": "execute_result"
    }
   ],
   "source": [
    "yt(\"https://youtu.be/eu6i7WJeinw?list=PLZHQObOWTQDPD3MizzM2xVFitgF8hE_ab\")"
   ]
  },
  {
   "cell_type": "code",
   "execution_count": 6,
   "metadata": {},
   "outputs": [
    {
     "data": {
      "text/html": [
       "\n",
       "    <iframe\n",
       "        width=\"500\"\n",
       "        height=\"281.25\"\n",
       "        src=\"https://youtube.com/embed/BaM7OCEm3G0?list=PLZHQObOWTQDPD3MizzM2xVFitgF8hE_ab\"\n",
       "        frameborder=\"0\"\n",
       "        allowfullscreen>\n",
       "    </iframe>\n",
       "    "
      ],
      "text/plain": [
       "<IPython.core.display.HTML object>"
      ]
     },
     "execution_count": 6,
     "metadata": {},
     "output_type": "execute_result"
    }
   ],
   "source": [
    "yt(\"https://youtu.be/BaM7OCEm3G0?list=PLZHQObOWTQDPD3MizzM2xVFitgF8hE_ab\")"
   ]
  },
  {
   "cell_type": "markdown",
   "metadata": {},
   "source": [
    "## Advanced Concepts"
   ]
  },
  {
   "cell_type": "markdown",
   "metadata": {},
   "source": [
    "### Bases"
   ]
  },
  {
   "cell_type": "code",
   "execution_count": 7,
   "metadata": {},
   "outputs": [
    {
     "data": {
      "text/html": [
       "\n",
       "    <iframe\n",
       "        width=\"500\"\n",
       "        height=\"281.25\"\n",
       "        src=\"https://youtube.com/embed/P2LTAUO1TdA?list=PLZHQObOWTQDPD3MizzM2xVFitgF8hE_ab\"\n",
       "        frameborder=\"0\"\n",
       "        allowfullscreen>\n",
       "    </iframe>\n",
       "    "
      ],
      "text/plain": [
       "<IPython.core.display.HTML object>"
      ]
     },
     "execution_count": 7,
     "metadata": {},
     "output_type": "execute_result"
    }
   ],
   "source": [
    "yt(\"https://youtu.be/P2LTAUO1TdA?list=PLZHQObOWTQDPD3MizzM2xVFitgF8hE_ab\")"
   ]
  },
  {
   "cell_type": "markdown",
   "metadata": {},
   "source": [
    "### Eigenvectors"
   ]
  },
  {
   "cell_type": "code",
   "execution_count": 8,
   "metadata": {},
   "outputs": [
    {
     "data": {
      "text/html": [
       "\n",
       "    <iframe\n",
       "        width=\"500\"\n",
       "        height=\"281.25\"\n",
       "        src=\"https://youtube.com/embed/PFDu9oVAE-g?list=PLZHQObOWTQDPD3MizzM2xVFitgF8hE_ab\"\n",
       "        frameborder=\"0\"\n",
       "        allowfullscreen>\n",
       "    </iframe>\n",
       "    "
      ],
      "text/plain": [
       "<IPython.core.display.HTML object>"
      ]
     },
     "execution_count": 8,
     "metadata": {},
     "output_type": "execute_result"
    }
   ],
   "source": [
    "yt(\"https://youtu.be/PFDu9oVAE-g?list=PLZHQObOWTQDPD3MizzM2xVFitgF8hE_ab\")"
   ]
  },
  {
   "cell_type": "markdown",
   "metadata": {},
   "source": [
    "# Exercises"
   ]
  },
  {
   "cell_type": "markdown",
   "metadata": {},
   "source": [
    "Implement PCA maybe?"
   ]
  },
  {
   "cell_type": "markdown",
   "metadata": {},
   "source": [
    "# Calculus"
   ]
  },
  {
   "cell_type": "markdown",
   "metadata": {},
   "source": [
    "## Introduction"
   ]
  },
  {
   "cell_type": "code",
   "execution_count": 9,
   "metadata": {},
   "outputs": [
    {
     "data": {
      "text/html": [
       "\n",
       "    <iframe\n",
       "        width=\"500\"\n",
       "        height=\"281.25\"\n",
       "        src=\"https://youtube.com/embed/WUvTyaaNkzM?list=PLZHQObOWTQDMsr9K-rj53DwVRMYO3t5Yr\"\n",
       "        frameborder=\"0\"\n",
       "        allowfullscreen>\n",
       "    </iframe>\n",
       "    "
      ],
      "text/plain": [
       "<IPython.core.display.HTML object>"
      ]
     },
     "execution_count": 9,
     "metadata": {},
     "output_type": "execute_result"
    }
   ],
   "source": [
    "yt(\"https://youtu.be/WUvTyaaNkzM?list=PLZHQObOWTQDMsr9K-rj53DwVRMYO3t5Yr\")"
   ]
  },
  {
   "cell_type": "markdown",
   "metadata": {},
   "source": [
    "## Derivatives"
   ]
  },
  {
   "cell_type": "code",
   "execution_count": 11,
   "metadata": {},
   "outputs": [
    {
     "data": {
      "text/html": [
       "\n",
       "    <iframe\n",
       "        width=\"500\"\n",
       "        height=\"281.25\"\n",
       "        src=\"https://youtube.com/embed/9vKqVkMQHKk?list=PLZHQObOWTQDMsr9K-rj53DwVRMYO3t5Yr\"\n",
       "        frameborder=\"0\"\n",
       "        allowfullscreen>\n",
       "    </iframe>\n",
       "    "
      ],
      "text/plain": [
       "<IPython.core.display.HTML object>"
      ]
     },
     "execution_count": 11,
     "metadata": {},
     "output_type": "execute_result"
    }
   ],
   "source": [
    "yt(\"https://youtu.be/9vKqVkMQHKk?list=PLZHQObOWTQDMsr9K-rj53DwVRMYO3t5Yr\")"
   ]
  },
  {
   "cell_type": "code",
   "execution_count": 13,
   "metadata": {},
   "outputs": [
    {
     "data": {
      "text/html": [
       "\n",
       "    <iframe\n",
       "        width=\"500\"\n",
       "        height=\"281.25\"\n",
       "        src=\"https://youtube.com/embed/S0_qX4VJhMQ?list=PLZHQObOWTQDMsr9K-rj53DwVRMYO3t5Yr\"\n",
       "        frameborder=\"0\"\n",
       "        allowfullscreen>\n",
       "    </iframe>\n",
       "    "
      ],
      "text/plain": [
       "<IPython.core.display.HTML object>"
      ]
     },
     "execution_count": 13,
     "metadata": {},
     "output_type": "execute_result"
    }
   ],
   "source": [
    "yt(\"https://youtu.be/S0_qX4VJhMQ?list=PLZHQObOWTQDMsr9K-rj53DwVRMYO3t5Yr\")"
   ]
  },
  {
   "cell_type": "markdown",
   "metadata": {},
   "source": [
    "### Chain Rule\n",
    "\n",
    "Perhaps one of the more critical parts to thoroughly understand. If you understand this, you will understand backpropagation, which is essential in neural networks."
   ]
  },
  {
   "cell_type": "code",
   "execution_count": 17,
   "metadata": {},
   "outputs": [
    {
     "data": {
      "text/html": [
       "\n",
       "    <iframe\n",
       "        width=\"500\"\n",
       "        height=\"281.25\"\n",
       "        src=\"https://youtube.com/embed/YG15m2VwSjA?list=PLZHQObOWTQDMsr9K-rj53DwVRMYO3t5Yr\"\n",
       "        frameborder=\"0\"\n",
       "        allowfullscreen>\n",
       "    </iframe>\n",
       "    "
      ],
      "text/plain": [
       "<IPython.core.display.HTML object>"
      ]
     },
     "execution_count": 17,
     "metadata": {},
     "output_type": "execute_result"
    }
   ],
   "source": [
    "yt(\"https://youtu.be/YG15m2VwSjA?list=PLZHQObOWTQDMsr9K-rj53DwVRMYO3t5Yr\")"
   ]
  },
  {
   "cell_type": "markdown",
   "metadata": {},
   "source": [
    "### Higher Order derivatives."
   ]
  },
  {
   "cell_type": "code",
   "execution_count": 18,
   "metadata": {},
   "outputs": [
    {
     "data": {
      "text/html": [
       "\n",
       "    <iframe\n",
       "        width=\"500\"\n",
       "        height=\"281.25\"\n",
       "        src=\"https://youtube.com/embed/BLkz5LGWihw?list=PLZHQObOWTQDMsr9K-rj53DwVRMYO3t5Yr\"\n",
       "        frameborder=\"0\"\n",
       "        allowfullscreen>\n",
       "    </iframe>\n",
       "    "
      ],
      "text/plain": [
       "<IPython.core.display.HTML object>"
      ]
     },
     "execution_count": 18,
     "metadata": {},
     "output_type": "execute_result"
    }
   ],
   "source": [
    "yt(\"https://youtu.be/BLkz5LGWihw?list=PLZHQObOWTQDMsr9K-rj53DwVRMYO3t5Yr\")"
   ]
  },
  {
   "cell_type": "markdown",
   "metadata": {},
   "source": [
    "## Integration\n",
    "\n",
    "Basically the reverse of derivation, but slightly more subtle."
   ]
  },
  {
   "cell_type": "code",
   "execution_count": 15,
   "metadata": {},
   "outputs": [
    {
     "data": {
      "text/html": [
       "\n",
       "    <iframe\n",
       "        width=\"500\"\n",
       "        height=\"281.25\"\n",
       "        src=\"https://youtube.com/embed/rfG8ce4nNh0?list=PLZHQObOWTQDMsr9K-rj53DwVRMYO3t5Yr\"\n",
       "        frameborder=\"0\"\n",
       "        allowfullscreen>\n",
       "    </iframe>\n",
       "    "
      ],
      "text/plain": [
       "<IPython.core.display.HTML object>"
      ]
     },
     "execution_count": 15,
     "metadata": {},
     "output_type": "execute_result"
    }
   ],
   "source": [
    "yt(\"https://youtu.be/rfG8ce4nNh0?list=PLZHQObOWTQDMsr9K-rj53DwVRMYO3t5Yr\")"
   ]
  },
  {
   "cell_type": "markdown",
   "metadata": {},
   "source": [
    "Connecting the dots between area and slope. This is also known as the fundamental theorem of calculus, and is by some people regarded as the single most important piece of knowledge in the field. A real deep understanding of this thing and its power takes years, so don't worry about. Just get used to the idea."
   ]
  },
  {
   "cell_type": "code",
   "execution_count": 16,
   "metadata": {},
   "outputs": [
    {
     "data": {
      "text/html": [
       "\n",
       "    <iframe\n",
       "        width=\"500\"\n",
       "        height=\"281.25\"\n",
       "        src=\"https://youtube.com/embed/FnJqaIESC2s?list=PLZHQObOWTQDMsr9K-rj53DwVRMYO3t5Yr\"\n",
       "        frameborder=\"0\"\n",
       "        allowfullscreen>\n",
       "    </iframe>\n",
       "    "
      ],
      "text/plain": [
       "<IPython.core.display.HTML object>"
      ]
     },
     "execution_count": 16,
     "metadata": {},
     "output_type": "execute_result"
    }
   ],
   "source": [
    "yt(\"https://youtu.be/FnJqaIESC2s?list=PLZHQObOWTQDMsr9K-rj53DwVRMYO3t5Yr\")"
   ]
  },
  {
   "cell_type": "markdown",
   "metadata": {},
   "source": [
    "## Taylor Series\n",
    "\n",
    "The concept of a series expansion is pervasive in all of science."
   ]
  },
  {
   "cell_type": "code",
   "execution_count": 19,
   "metadata": {},
   "outputs": [
    {
     "data": {
      "text/html": [
       "\n",
       "    <iframe\n",
       "        width=\"500\"\n",
       "        height=\"281.25\"\n",
       "        src=\"https://youtube.com/embed/3d6DsjIBzJ4?list=PLZHQObOWTQDMsr9K-rj53DwVRMYO3t5Yr\"\n",
       "        frameborder=\"0\"\n",
       "        allowfullscreen>\n",
       "    </iframe>\n",
       "    "
      ],
      "text/plain": [
       "<IPython.core.display.HTML object>"
      ]
     },
     "execution_count": 19,
     "metadata": {},
     "output_type": "execute_result"
    }
   ],
   "source": [
    "yt(\"https://youtu.be/3d6DsjIBzJ4?list=PLZHQObOWTQDMsr9K-rj53DwVRMYO3t5Yr\")"
   ]
  }
 ],
 "metadata": {
  "colab": {
   "name": "01 - Mathematics.ipynb",
   "provenance": [],
   "version": "0.3.2"
  },
  "kernelspec": {
   "display_name": "Python 3",
   "language": "python",
   "name": "python3"
  },
  "language_info": {
   "codemirror_mode": {
    "name": "ipython",
    "version": 3
   },
   "file_extension": ".py",
   "mimetype": "text/x-python",
   "name": "python",
   "nbconvert_exporter": "python",
   "pygments_lexer": "ipython3",
   "version": "3.7.3"
  },
  "toc-autonumbering": true
 },
 "nbformat": 4,
 "nbformat_minor": 2
}
