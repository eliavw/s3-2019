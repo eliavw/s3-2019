{
 "cells": [
  {
   "cell_type": "markdown",
   "metadata": {
    "colab_type": "text",
    "id": "Dniuy-eYBLmZ"
   },
   "source": [
    "# Topic 01: Mathematics\n",
    "\n",
    "In this topic we will discuss the basics of what we will use."
   ]
  },
  {
   "cell_type": "code",
   "execution_count": 1,
   "metadata": {},
   "outputs": [],
   "source": [
    "# General stuff.\n",
    "\n",
    "from IPython.display import HTML\n",
    "\n",
    "def yt(url, width=500, height=None):\n",
    "    \"\"\"\n",
    "    Function to embed a youtube movie in a notebook\n",
    "    \"\"\"\n",
    "    \n",
    "    if height is None:\n",
    "        height = (9/16*width)\n",
    "    \n",
    "    url = url.replace(\"youtu.be\", 'youtube.com/embed')\n",
    "    \n",
    "    embed_code = \"\"\"\n",
    "    <iframe\n",
    "        width=\"{0}\"\n",
    "        height=\"{1}\"\n",
    "        src=\"{2}\"\n",
    "        frameborder=\"0\"\n",
    "        allowfullscreen>\n",
    "    </iframe>\n",
    "    \"\"\".format(width, height, url)\n",
    "    \n",
    "    return HTML(embed_code)"
   ]
  },
  {
   "cell_type": "markdown",
   "metadata": {
    "colab_type": "text",
    "id": "dhWomvxcBe1H",
    "toc-hr-collapsed": false
   },
   "source": [
    "# Linear Algebra"
   ]
  },
  {
   "cell_type": "markdown",
   "metadata": {
    "toc-hr-collapsed": false
   },
   "source": [
    "## Fundamental objects\n",
    "\n",
    "The objects that we deal with."
   ]
  },
  {
   "cell_type": "markdown",
   "metadata": {
    "colab": {},
    "colab_type": "code",
    "id": "Uu-OpbcMBXEE"
   },
   "source": [
    "### Scalars"
   ]
  },
  {
   "cell_type": "markdown",
   "metadata": {},
   "source": [
    "### Vectors"
   ]
  },
  {
   "cell_type": "code",
   "execution_count": 2,
   "metadata": {},
   "outputs": [
    {
     "data": {
      "text/html": [
       "\n",
       "    <iframe\n",
       "        width=\"500\"\n",
       "        height=\"281.25\"\n",
       "        src=\"https://youtube.com/embed/fNk_zzaMoSs?list=PLZHQObOWTQDPD3MizzM2xVFitgF8hE_ab\"\n",
       "        frameborder=\"0\"\n",
       "        allowfullscreen>\n",
       "    </iframe>\n",
       "    "
      ],
      "text/plain": [
       "<IPython.core.display.HTML object>"
      ]
     },
     "execution_count": 2,
     "metadata": {},
     "output_type": "execute_result"
    }
   ],
   "source": [
    "yt(\"https://youtu.be/fNk_zzaMoSs?list=PLZHQObOWTQDPD3MizzM2xVFitgF8hE_ab\")"
   ]
  },
  {
   "cell_type": "markdown",
   "metadata": {},
   "source": [
    "Basis vectors # TODO"
   ]
  },
  {
   "cell_type": "code",
   "execution_count": 22,
   "metadata": {},
   "outputs": [
    {
     "data": {
      "text/html": [
       "\n",
       "    <iframe\n",
       "        width=\"500\"\n",
       "        height=\"281.25\"\n",
       "        src=\"https://youtube.com/embed/k7RM-ot2NWY?list=PLZHQObOWTQDPD3MizzM2xVFitgF8hE_ab\"\n",
       "        frameborder=\"0\"\n",
       "        allowfullscreen>\n",
       "    </iframe>\n",
       "    "
      ],
      "text/plain": [
       "<IPython.core.display.HTML object>"
      ]
     },
     "execution_count": 22,
     "metadata": {},
     "output_type": "execute_result"
    }
   ],
   "source": [
    "yt(\"https://youtu.be/k7RM-ot2NWY?list=PLZHQObOWTQDPD3MizzM2xVFitgF8hE_ab\")"
   ]
  },
  {
   "cell_type": "markdown",
   "metadata": {},
   "source": [
    "#### Exercise\n",
    "\n",
    "Define a vector in python, using numpy"
   ]
  },
  {
   "cell_type": "markdown",
   "metadata": {},
   "source": [
    "### Matrices"
   ]
  },
  {
   "cell_type": "code",
   "execution_count": 4,
   "metadata": {},
   "outputs": [
    {
     "data": {
      "text/html": [
       "\n",
       "    <iframe\n",
       "        width=\"500\"\n",
       "        height=\"281.25\"\n",
       "        src=\"https://youtube.com/embed/kYB8IZa5AuE?list=PLZHQObOWTQDPD3MizzM2xVFitgF8hE_ab\"\n",
       "        frameborder=\"0\"\n",
       "        allowfullscreen>\n",
       "    </iframe>\n",
       "    "
      ],
      "text/plain": [
       "<IPython.core.display.HTML object>"
      ]
     },
     "execution_count": 4,
     "metadata": {},
     "output_type": "execute_result"
    }
   ],
   "source": [
    "yt(\"https://youtu.be/kYB8IZa5AuE?list=PLZHQObOWTQDPD3MizzM2xVFitgF8hE_ab\")"
   ]
  },
  {
   "cell_type": "markdown",
   "metadata": {},
   "source": [
    "Compositions of transformations can be translated to matrix operations, such as matrix multiplication."
   ]
  },
  {
   "cell_type": "code",
   "execution_count": 23,
   "metadata": {},
   "outputs": [
    {
     "data": {
      "text/html": [
       "\n",
       "    <iframe\n",
       "        width=\"500\"\n",
       "        height=\"281.25\"\n",
       "        src=\"https://youtube.com/embed/XkY2DOUCWMU?list=PLZHQObOWTQDPD3MizzM2xVFitgF8hE_ab\"\n",
       "        frameborder=\"0\"\n",
       "        allowfullscreen>\n",
       "    </iframe>\n",
       "    "
      ],
      "text/plain": [
       "<IPython.core.display.HTML object>"
      ]
     },
     "execution_count": 23,
     "metadata": {},
     "output_type": "execute_result"
    }
   ],
   "source": [
    "yt(\"https://youtu.be/XkY2DOUCWMU?list=PLZHQObOWTQDPD3MizzM2xVFitgF8hE_ab\")"
   ]
  },
  {
   "cell_type": "markdown",
   "metadata": {},
   "source": [
    "#### Exercise\n",
    "\n",
    "Write an algorithm that takes as input two matrices and multiplies them."
   ]
  },
  {
   "cell_type": "markdown",
   "metadata": {},
   "source": [
    "#### Exercise\n",
    "\n",
    "Define two matrices in numpy and figure out how to multiply to matrices in numpy."
   ]
  },
  {
   "cell_type": "code",
   "execution_count": 6,
   "metadata": {},
   "outputs": [
    {
     "data": {
      "text/html": [
       "\n",
       "    <iframe\n",
       "        width=\"500\"\n",
       "        height=\"281.25\"\n",
       "        src=\"https://youtube.com/embed/rHLEWRxRGiM?list=PLZHQObOWTQDPD3MizzM2xVFitgF8hE_ab\"\n",
       "        frameborder=\"0\"\n",
       "        allowfullscreen>\n",
       "    </iframe>\n",
       "    "
      ],
      "text/plain": [
       "<IPython.core.display.HTML object>"
      ]
     },
     "execution_count": 6,
     "metadata": {},
     "output_type": "execute_result"
    }
   ],
   "source": [
    "yt(\"https://youtu.be/rHLEWRxRGiM?list=PLZHQObOWTQDPD3MizzM2xVFitgF8hE_ab\")"
   ]
  },
  {
   "cell_type": "markdown",
   "metadata": {},
   "source": [
    "### Tensors\n",
    "\n",
    "The last, and most general object"
   ]
  },
  {
   "cell_type": "code",
   "execution_count": null,
   "metadata": {},
   "outputs": [],
   "source": []
  },
  {
   "cell_type": "markdown",
   "metadata": {
    "toc-hr-collapsed": false
   },
   "source": [
    "## Important Operations and Uses"
   ]
  },
  {
   "cell_type": "markdown",
   "metadata": {},
   "source": [
    "### Scalar Product"
   ]
  },
  {
   "cell_type": "code",
   "execution_count": 7,
   "metadata": {},
   "outputs": [
    {
     "data": {
      "text/html": [
       "\n",
       "    <iframe\n",
       "        width=\"500\"\n",
       "        height=\"281.25\"\n",
       "        src=\"https://youtube.com/embed/LyGKycYT2v0?list=PLZHQObOWTQDPD3MizzM2xVFitgF8hE_ab\"\n",
       "        frameborder=\"0\"\n",
       "        allowfullscreen>\n",
       "    </iframe>\n",
       "    "
      ],
      "text/plain": [
       "<IPython.core.display.HTML object>"
      ]
     },
     "execution_count": 7,
     "metadata": {},
     "output_type": "execute_result"
    }
   ],
   "source": [
    "yt(\"https://youtu.be/LyGKycYT2v0?list=PLZHQObOWTQDPD3MizzM2xVFitgF8hE_ab\")"
   ]
  },
  {
   "cell_type": "markdown",
   "metadata": {},
   "source": [
    "### Cross Product"
   ]
  },
  {
   "cell_type": "code",
   "execution_count": 8,
   "metadata": {},
   "outputs": [
    {
     "data": {
      "text/html": [
       "\n",
       "    <iframe\n",
       "        width=\"500\"\n",
       "        height=\"281.25\"\n",
       "        src=\"https://youtube.com/embed/eu6i7WJeinw?list=PLZHQObOWTQDPD3MizzM2xVFitgF8hE_ab\"\n",
       "        frameborder=\"0\"\n",
       "        allowfullscreen>\n",
       "    </iframe>\n",
       "    "
      ],
      "text/plain": [
       "<IPython.core.display.HTML object>"
      ]
     },
     "execution_count": 8,
     "metadata": {},
     "output_type": "execute_result"
    }
   ],
   "source": [
    "yt(\"https://youtu.be/eu6i7WJeinw?list=PLZHQObOWTQDPD3MizzM2xVFitgF8hE_ab\")"
   ]
  },
  {
   "cell_type": "code",
   "execution_count": 9,
   "metadata": {},
   "outputs": [
    {
     "data": {
      "text/html": [
       "\n",
       "    <iframe\n",
       "        width=\"500\"\n",
       "        height=\"281.25\"\n",
       "        src=\"https://youtube.com/embed/BaM7OCEm3G0?list=PLZHQObOWTQDPD3MizzM2xVFitgF8hE_ab\"\n",
       "        frameborder=\"0\"\n",
       "        allowfullscreen>\n",
       "    </iframe>\n",
       "    "
      ],
      "text/plain": [
       "<IPython.core.display.HTML object>"
      ]
     },
     "execution_count": 9,
     "metadata": {},
     "output_type": "execute_result"
    }
   ],
   "source": [
    "yt(\"https://youtu.be/BaM7OCEm3G0?list=PLZHQObOWTQDPD3MizzM2xVFitgF8hE_ab\")"
   ]
  },
  {
   "cell_type": "markdown",
   "metadata": {
    "toc-hr-collapsed": true
   },
   "source": [
    "## Advanced Concepts"
   ]
  },
  {
   "cell_type": "markdown",
   "metadata": {},
   "source": [
    "### Bases"
   ]
  },
  {
   "cell_type": "code",
   "execution_count": 10,
   "metadata": {},
   "outputs": [
    {
     "data": {
      "text/html": [
       "\n",
       "    <iframe\n",
       "        width=\"500\"\n",
       "        height=\"281.25\"\n",
       "        src=\"https://youtube.com/embed/P2LTAUO1TdA?list=PLZHQObOWTQDPD3MizzM2xVFitgF8hE_ab\"\n",
       "        frameborder=\"0\"\n",
       "        allowfullscreen>\n",
       "    </iframe>\n",
       "    "
      ],
      "text/plain": [
       "<IPython.core.display.HTML object>"
      ]
     },
     "execution_count": 10,
     "metadata": {},
     "output_type": "execute_result"
    }
   ],
   "source": [
    "yt(\"https://youtu.be/P2LTAUO1TdA?list=PLZHQObOWTQDPD3MizzM2xVFitgF8hE_ab\")"
   ]
  },
  {
   "cell_type": "markdown",
   "metadata": {},
   "source": [
    "### Eigenvectors"
   ]
  },
  {
   "cell_type": "code",
   "execution_count": 11,
   "metadata": {},
   "outputs": [
    {
     "data": {
      "text/html": [
       "\n",
       "    <iframe\n",
       "        width=\"500\"\n",
       "        height=\"281.25\"\n",
       "        src=\"https://youtube.com/embed/PFDu9oVAE-g?list=PLZHQObOWTQDPD3MizzM2xVFitgF8hE_ab\"\n",
       "        frameborder=\"0\"\n",
       "        allowfullscreen>\n",
       "    </iframe>\n",
       "    "
      ],
      "text/plain": [
       "<IPython.core.display.HTML object>"
      ]
     },
     "execution_count": 11,
     "metadata": {},
     "output_type": "execute_result"
    }
   ],
   "source": [
    "yt(\"https://youtu.be/PFDu9oVAE-g?list=PLZHQObOWTQDPD3MizzM2xVFitgF8hE_ab\")"
   ]
  },
  {
   "cell_type": "markdown",
   "metadata": {
    "toc-hr-collapsed": false
   },
   "source": [
    "# Calculus"
   ]
  },
  {
   "cell_type": "markdown",
   "metadata": {},
   "source": [
    "## Introduction"
   ]
  },
  {
   "cell_type": "code",
   "execution_count": 20,
   "metadata": {},
   "outputs": [
    {
     "data": {
      "text/html": [
       "\n",
       "    <iframe\n",
       "        width=\"500\"\n",
       "        height=\"281.25\"\n",
       "        src=\"https://youtube.com/embed/WUvTyaaNkzM?list=PLZHQObOWTQDMsr9K-rj53DwVRMYO3t5Yr\"\n",
       "        frameborder=\"0\"\n",
       "        allowfullscreen>\n",
       "    </iframe>\n",
       "    "
      ],
      "text/plain": [
       "<IPython.core.display.HTML object>"
      ]
     },
     "execution_count": 20,
     "metadata": {},
     "output_type": "execute_result"
    }
   ],
   "source": [
    "yt(\"https://youtu.be/WUvTyaaNkzM?list=PLZHQObOWTQDMsr9K-rj53DwVRMYO3t5Yr\")"
   ]
  },
  {
   "cell_type": "markdown",
   "metadata": {},
   "source": [
    "### Exercise - Approximate Circle\n",
    "\n",
    "1. Write a function `approx_area(R, n)` that takes as input:\n",
    "    - $R$, the radius of the circle\n",
    "    - $n$, the number of concentric rings we divide it in\n",
    "   and return the approximation, (as explained in the video above!) of the total area of this circle. We will refer to this approximation as $A^*$\n",
    "   \n",
    "2. Once you have this, given $R=10$, tell me what $n$ (up to a precision of 1000) needs to be in order for our approximation to be _reasonably correct_, concretely:\n",
    "$$|A^* - A| < \\delta \\quad \\text{with}  \\quad \\delta=10^{-3}$$\n",
    "\n",
    "3. Using matplotlib, visualize your concentric circles."
   ]
  },
  {
   "cell_type": "markdown",
   "metadata": {},
   "source": [
    "#### Solution"
   ]
  },
  {
   "cell_type": "code",
   "execution_count": 70,
   "metadata": {},
   "outputs": [],
   "source": [
    "from math import pi"
   ]
  },
  {
   "cell_type": "code",
   "execution_count": 72,
   "metadata": {},
   "outputs": [
    {
     "name": "stdout",
     "output_type": "stream",
     "text": [
      "0\n",
      "1\n",
      "2\n",
      "3\n",
      "4\n",
      "5\n",
      "6\n",
      "7\n",
      "8\n",
      "9\n"
     ]
    }
   ],
   "source": [
    "range(10)\n",
    "\n",
    "for x in range(10):\n",
    "    print(x)"
   ]
  },
  {
   "cell_type": "code",
   "execution_count": 80,
   "metadata": {},
   "outputs": [
    {
     "data": {
      "text/plain": [
       "[0, 1, 2, 3, 4, 5, 6, 7, 8, 9]"
      ]
     },
     "execution_count": 80,
     "metadata": {},
     "output_type": "execute_result"
    }
   ],
   "source": [
    "list(range(0,10))"
   ]
  },
  {
   "cell_type": "code",
   "execution_count": 79,
   "metadata": {},
   "outputs": [
    {
     "data": {
      "text/plain": [
       "[10, 8, 6, 4, 2]"
      ]
     },
     "execution_count": 79,
     "metadata": {},
     "output_type": "execute_result"
    }
   ],
   "source": [
    "list(range(10, 1, -2))"
   ]
  },
  {
   "cell_type": "code",
   "execution_count": 86,
   "metadata": {},
   "outputs": [],
   "source": [
    "# Approx area\n",
    "def approx_area(R, n):\n",
    "    approx_area = 0\n",
    "    \n",
    "    dr = R/n\n",
    "    \n",
    "    n_rings = list(range(1, n+1))\n",
    "    \n",
    "    for ring in n_rings:\n",
    "        radius_ring = ring*dr - #0.5*dr\n",
    "        area_ring = (2*pi*radius_ring)*dr\n",
    "        \n",
    "        approx_area+=area_ring\n",
    "        \n",
    "    return approx_area"
   ]
  },
  {
   "cell_type": "code",
   "execution_count": 91,
   "metadata": {},
   "outputs": [
    {
     "name": "stdout",
     "output_type": "stream",
     "text": [
      "\n",
      "Answer:\n",
      "\n",
      "Number of rings:    2\n",
      "Approximate area:   314.1592653589793\n",
      "Actual area:        314.1592653589793\n",
      "\n"
     ]
    }
   ],
   "source": [
    "# Reasonably correct solution\n",
    "\n",
    "# parameters of problem\n",
    "R=10\n",
    "delta = 10**(-3)\n",
    "A_actual = pi*R**2\n",
    "\n",
    "# init values\n",
    "A_approx = 0\n",
    "n=1\n",
    "\n",
    "while abs(A_approx-A_actual) > delta:\n",
    "    A_approx = approx_area(R, n)\n",
    "    n+=1\n",
    "\n",
    "msg = \"\"\"\n",
    "Answer:\n",
    "\n",
    "Number of rings:    {}\n",
    "Approximate area:   {}\n",
    "Actual area:        {}\n",
    "\"\"\".format(n, A_approx, A_actual)\n",
    "print(msg)"
   ]
  },
  {
   "cell_type": "code",
   "execution_count": 94,
   "metadata": {},
   "outputs": [
    {
     "name": "stdout",
     "output_type": "stream",
     "text": [
      "False\n",
      "326.72563597333834\n",
      "314.1592653589793\n",
      "12.566370614359016\n"
     ]
    },
    {
     "data": {
      "image/png": "[encoded data removed]",
      "text/plain": [
       "<Figure size 432x288 with 1 Axes>"
      ]
     },
     "metadata": {
      "needs_background": "light"
     },
     "output_type": "display_data"
    }
   ],
   "source": [
    "# Visualisation\n",
    "\n",
    "import matplotlib.pyplot as plt\n",
    "from math import *\n",
    "\n",
    "R = 10\n",
    "n = 25\n",
    "A = 0\n",
    "circles = [0]\n",
    "r2 = 0\n",
    "Ap_area = 0\n",
    "δ = 0\n",
    "\n",
    "def approx_area(R, n):\n",
    "    dr = R/n\n",
    "    for elements in range(0, n):\n",
    "        circles.append(2*math.pi*R*dr)\n",
    "        angle = [2*pi/100*i for i in range(101)]\n",
    "        R = R-dr\n",
    "        x = [R*cos(i) for i in angle]\n",
    "        y = [R*sin(i) for i in angle]\n",
    "        plt.axis(\"equal\")\n",
    "        plt.plot(x, y)\n",
    "plt.show()\n",
    "\n",
    "approx_area(R,n)\n",
    "Ap_area = np.sum(circles) \n",
    "A = math.pi*R**2\n",
    "\n",
    "δ = pow(10, -5)\n",
    "if Ap_area-A < δ:\n",
    "    print(\"True\")\n",
    "else:\n",
    "    print(\"False\")\n",
    "\n",
    "print(Ap_area)\n",
    "print(A)\n",
    "print(Ap_area-A)\n",
    "\n",
    "\n",
    "plt.savefig(\"test.svg\")"
   ]
  },
  {
   "cell_type": "markdown",
   "metadata": {},
   "source": [
    "## Derivatives"
   ]
  },
  {
   "cell_type": "code",
   "execution_count": 27,
   "metadata": {},
   "outputs": [
    {
     "data": {
      "text/html": [
       "\n",
       "    <iframe\n",
       "        width=\"500\"\n",
       "        height=\"281.25\"\n",
       "        src=\"https://youtube.com/embed/9vKqVkMQHKk?list=PLZHQObOWTQDMsr9K-rj53DwVRMYO3t5Yr\"\n",
       "        frameborder=\"0\"\n",
       "        allowfullscreen>\n",
       "    </iframe>\n",
       "    "
      ],
      "text/plain": [
       "<IPython.core.display.HTML object>"
      ]
     },
     "execution_count": 27,
     "metadata": {},
     "output_type": "execute_result"
    }
   ],
   "source": [
    "yt(\"https://youtu.be/9vKqVkMQHKk?list=PLZHQObOWTQDMsr9K-rj53DwVRMYO3t5Yr\")"
   ]
  },
  {
   "cell_type": "code",
   "execution_count": null,
   "metadata": {},
   "outputs": [],
   "source": [
    "#### Exercise\n",
    "\n"
   ]
  },
  {
   "cell_type": "code",
   "execution_count": 26,
   "metadata": {},
   "outputs": [
    {
     "data": {
      "text/html": [
       "\n",
       "    <iframe\n",
       "        width=\"500\"\n",
       "        height=\"281.25\"\n",
       "        src=\"https://youtube.com/embed/S0_qX4VJhMQ?list=PLZHQObOWTQDMsr9K-rj53DwVRMYO3t5Yr\"\n",
       "        frameborder=\"0\"\n",
       "        allowfullscreen>\n",
       "    </iframe>\n",
       "    "
      ],
      "text/plain": [
       "<IPython.core.display.HTML object>"
      ]
     },
     "execution_count": 26,
     "metadata": {},
     "output_type": "execute_result"
    }
   ],
   "source": [
    "yt(\"https://youtu.be/S0_qX4VJhMQ?list=PLZHQObOWTQDMsr9K-rj53DwVRMYO3t5Yr\")"
   ]
  },
  {
   "cell_type": "code",
   "execution_count": null,
   "metadata": {},
   "outputs": [],
   "source": []
  },
  {
   "cell_type": "markdown",
   "metadata": {},
   "source": [
    "### Chain Rule\n",
    "\n",
    "Perhaps one of the more critical parts to thoroughly understand. If you understand this, you will understand backpropagation, which is essential in neural networks."
   ]
  },
  {
   "cell_type": "code",
   "execution_count": 15,
   "metadata": {},
   "outputs": [
    {
     "data": {
      "text/html": [
       "\n",
       "    <iframe\n",
       "        width=\"500\"\n",
       "        height=\"281.25\"\n",
       "        src=\"https://youtube.com/embed/YG15m2VwSjA?list=PLZHQObOWTQDMsr9K-rj53DwVRMYO3t5Yr\"\n",
       "        frameborder=\"0\"\n",
       "        allowfullscreen>\n",
       "    </iframe>\n",
       "    "
      ],
      "text/plain": [
       "<IPython.core.display.HTML object>"
      ]
     },
     "execution_count": 15,
     "metadata": {},
     "output_type": "execute_result"
    }
   ],
   "source": [
    "yt(\"https://youtu.be/YG15m2VwSjA?list=PLZHQObOWTQDMsr9K-rj53DwVRMYO3t5Yr\")"
   ]
  },
  {
   "cell_type": "markdown",
   "metadata": {},
   "source": [
    "### Higher Order derivatives."
   ]
  },
  {
   "cell_type": "code",
   "execution_count": 16,
   "metadata": {},
   "outputs": [
    {
     "data": {
      "text/html": [
       "\n",
       "    <iframe\n",
       "        width=\"500\"\n",
       "        height=\"281.25\"\n",
       "        src=\"https://youtube.com/embed/BLkz5LGWihw?list=PLZHQObOWTQDMsr9K-rj53DwVRMYO3t5Yr\"\n",
       "        frameborder=\"0\"\n",
       "        allowfullscreen>\n",
       "    </iframe>\n",
       "    "
      ],
      "text/plain": [
       "<IPython.core.display.HTML object>"
      ]
     },
     "execution_count": 16,
     "metadata": {},
     "output_type": "execute_result"
    }
   ],
   "source": [
    "yt(\"https://youtu.be/BLkz5LGWihw?list=PLZHQObOWTQDMsr9K-rj53DwVRMYO3t5Yr\")"
   ]
  },
  {
   "cell_type": "markdown",
   "metadata": {},
   "source": [
    "## Integration\n",
    "\n",
    "Basically the reverse of derivation, but slightly more subtle."
   ]
  },
  {
   "cell_type": "code",
   "execution_count": 25,
   "metadata": {},
   "outputs": [
    {
     "data": {
      "text/html": [
       "\n",
       "    <iframe\n",
       "        width=\"500\"\n",
       "        height=\"281.25\"\n",
       "        src=\"https://youtube.com/embed/rfG8ce4nNh0?list=PLZHQObOWTQDMsr9K-rj53DwVRMYO3t5Yr\"\n",
       "        frameborder=\"0\"\n",
       "        allowfullscreen>\n",
       "    </iframe>\n",
       "    "
      ],
      "text/plain": [
       "<IPython.core.display.HTML object>"
      ]
     },
     "execution_count": 25,
     "metadata": {},
     "output_type": "execute_result"
    }
   ],
   "source": [
    "yt(\"https://youtu.be/rfG8ce4nNh0?list=PLZHQObOWTQDMsr9K-rj53DwVRMYO3t5Yr\")"
   ]
  },
  {
   "cell_type": "markdown",
   "metadata": {},
   "source": [
    "## Fundamental theorem"
   ]
  },
  {
   "cell_type": "markdown",
   "metadata": {},
   "source": [
    "Connecting the dots between area and slope. This is also known as the fundamental theorem of calculus, and is by some people regarded as the single most important piece of knowledge in the field. A real deep understanding of this thing and its power takes years, so don't worry about. Just get used to the idea."
   ]
  },
  {
   "cell_type": "code",
   "execution_count": 18,
   "metadata": {},
   "outputs": [
    {
     "data": {
      "text/html": [
       "\n",
       "    <iframe\n",
       "        width=\"500\"\n",
       "        height=\"281.25\"\n",
       "        src=\"https://youtube.com/embed/FnJqaIESC2s?list=PLZHQObOWTQDMsr9K-rj53DwVRMYO3t5Yr\"\n",
       "        frameborder=\"0\"\n",
       "        allowfullscreen>\n",
       "    </iframe>\n",
       "    "
      ],
      "text/plain": [
       "<IPython.core.display.HTML object>"
      ]
     },
     "execution_count": 18,
     "metadata": {},
     "output_type": "execute_result"
    }
   ],
   "source": [
    "yt(\"https://youtu.be/FnJqaIESC2s?list=PLZHQObOWTQDMsr9K-rj53DwVRMYO3t5Yr\")"
   ]
  },
  {
   "cell_type": "markdown",
   "metadata": {},
   "source": [
    "## Taylor Series\n",
    "\n",
    "The concept of a series expansion is pervasive in all of science."
   ]
  },
  {
   "cell_type": "code",
   "execution_count": 19,
   "metadata": {},
   "outputs": [
    {
     "data": {
      "text/html": [
       "\n",
       "    <iframe\n",
       "        width=\"500\"\n",
       "        height=\"281.25\"\n",
       "        src=\"https://youtube.com/embed/3d6DsjIBzJ4?list=PLZHQObOWTQDMsr9K-rj53DwVRMYO3t5Yr\"\n",
       "        frameborder=\"0\"\n",
       "        allowfullscreen>\n",
       "    </iframe>\n",
       "    "
      ],
      "text/plain": [
       "<IPython.core.display.HTML object>"
      ]
     },
     "execution_count": 19,
     "metadata": {},
     "output_type": "execute_result"
    }
   ],
   "source": [
    "yt(\"https://youtu.be/3d6DsjIBzJ4?list=PLZHQObOWTQDMsr9K-rj53DwVRMYO3t5Yr\")"
   ]
  }
 ],
 "metadata": {
  "colab": {
   "name": "01 - Mathematics.ipynb",
   "provenance": [],
   "version": "0.3.2"
  },
  "kernelspec": {
   "display_name": "Python 3",
   "language": "python",
   "name": "python3"
  },
  "language_info": {
   "codemirror_mode": {
    "name": "ipython",
    "version": 3
   },
   "file_extension": ".py",
   "mimetype": "text/x-python",
   "name": "python",
   "nbconvert_exporter": "python",
   "pygments_lexer": "ipython3",
   "version": "3.7.3"
  },
  "toc-autonumbering": true
 },
 "nbformat": 4,
 "nbformat_minor": 2
}
